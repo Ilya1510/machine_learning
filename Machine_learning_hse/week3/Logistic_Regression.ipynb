{
 "cells": [
  {
   "cell_type": "markdown",
   "metadata": {},
   "source": [
    "Данное задание основано на материалах лекций по логистической регрессии.\n",
    "Вы научитесь:\n",
    "\n",
    "    работать с логистической регрессией\n",
    "\n",
    "    реализовывать градиентный спуск для ее настройки\n",
    "    использовать регуляризацию\n",
    "\n",
    "Введение\n",
    "\n",
    "Логистическая регрессия — один из видов линейных классификаторов. Одной из ее особенностей является возможность оценивания вероятностей классов, тогда как большинство линейных классификаторов могут выдавать только номера классов.\n",
    "\n",
    "Логистическая регрессия использует достаточно сложный функционал качества, который не допускает записи решения в явном виде (в отличие от, например, линейной регрессии). Тем не менее, логистическую регрессию можно настраивать с помощью градиентного спуска.\n",
    "\n",
    "Мы будем работать с выборкой, содержащей два признака. Будем считать, что ответы лежат в множестве {-1, 1}. Для настройки логистической регрессии мы будем решать следующую задачу:\n",
    "\n",
    "Здесь xi1 и xi2 — значение первого и второго признаков соответственно на объекте xi. В этом задании мы будем рассматривать алгоритмы без свободного члена, чтобы упростить работу.\n",
    "\n",
    "Градиентный шаг для весов будет заключаться в одновременном обновлении весов w1 и w2 по следующим формулам (проверьте сами, что здесь действительно выписана производная нашего функционала):\n",
    "\n",
    "Здесь k — размер шага.\n",
    "\n",
    "Линейные методы могут переобучаться и давать плохое качество из-за различных проблем в данных: мультиколлинеарности, зашумленности и т.д. Чтобы избежать этого, следует использовать регуляризацию — она позволяет понизить сложность модели и не допустить переобучения. Сила регуляризации определяется коэффициентом C в формулах, указанных выше."
   ]
  },
  {
   "cell_type": "markdown",
   "metadata": {},
   "source": [
    "Загрузите данные из файла data-logistic.csv. Это двумерная выборка, целевая переменная на которой принимает значения -1 или 1."
   ]
  },
  {
   "cell_type": "code",
   "execution_count": 6,
   "metadata": {
    "collapsed": true
   },
   "outputs": [],
   "source": [
    "import pandas as pd\n",
    "import numpy as np\n",
    "dataframe = pd.read_csv('data-logistic.csv', header=None)"
   ]
  },
  {
   "cell_type": "code",
   "execution_count": 7,
   "metadata": {
    "collapsed": false
   },
   "outputs": [
    {
     "name": "stdout",
     "output_type": "stream",
     "text": [
      "(205, 2) (205,)\n",
      "float64\n"
     ]
    }
   ],
   "source": [
    "y = dataframe[0]\n",
    "X = dataframe.drop(0, axis=1)\n",
    "print(X.shape, y.shape)\n",
    "y = y.apply(lambda x: x * 1.0)\n",
    "print(y.dtype)\n",
    "X = np.array(X)\n",
    "y = np.array(y)"
   ]
  },
  {
   "cell_type": "markdown",
   "metadata": {},
   "source": [
    "Убедитесь, что выше выписаны правильные формулы для градиентного спуска. Обратите внимание, что мы используем полноценный градиентный спуск, а не его стохастический вариант!\n",
    "Реализуйте градиентный спуск для обычной и L2-регуляризованной (с коэффициентом регуляризации 10) логистической регрессии. Используйте длину шага k=0.1. В качестве начального приближения используйте вектор (0, 0)."
   ]
  },
  {
   "cell_type": "code",
   "execution_count": 8,
   "metadata": {
    "collapsed": false
   },
   "outputs": [],
   "source": [
    "import numpy as np\n",
    "def gradient_step(w, X, y, k, C):\n",
    "    X = np.array(X.copy())\n",
    "    y = np.array(y.copy())\n",
    "    l = X.shape[0] #count objects\n",
    "    n = len(w) #count features\n",
    "    future_w = np.array([x for x in w]) #copy of w\n",
    "    for i in range(n):\n",
    "        future_w[i] += 1.0 * (k / l) * (np.sum([y[j] * X[j][i] * (1 - 1 / (1 + \n",
    "                    np.exp(-y[j] * np.sum([w[p] * X[j][p] for p in range(n)]))))\n",
    "            for j in range(l)]))\n",
    "        reg2 = k * C * w[i]\n",
    "        future_w[i] -= reg2\n",
    "    return future_w\n",
    "    \n",
    "def gradient_find_min(w_start, func_stop, X, y, k, C):\n",
    "    w1 = np.array(w_start, dtype='float128')\n",
    "    w2 = gradient_step(w1, X, y, k, C)\n",
    "    cnt = 0 #count iterations\n",
    "    while (not func_stop(w1, w2, cnt)):\n",
    "        w1 = w2\n",
    "        w2 = gradient_step(w1, X, y, k, C)\n",
    "        cnt += 1\n",
    "    print('count iterations = ', cnt)\n",
    "    return w1"
   ]
  },
  {
   "cell_type": "markdown",
   "metadata": {},
   "source": [
    "Запустите градиентный спуск и доведите до сходимости (евклидово расстояние между векторами весов на соседних итерациях должно быть не больше 1e-5). Рекомендуется ограничить сверху число итераций десятью тысячами."
   ]
  },
  {
   "cell_type": "code",
   "execution_count": 41,
   "metadata": {
    "collapsed": false
   },
   "outputs": [
    {
     "name": "stdout",
     "output_type": "stream",
     "text": [
      "count iterations =  35\n"
     ]
    }
   ],
   "source": [
    "func_stop = lambda w1, w2, cnt: np.linalg.norm(w1 - w2) < 1e-20 or cnt >= 1000\n",
    "w_end = gradient_find_min([10, 0], func_stop, X, y, 0.1, 10)"
   ]
  },
  {
   "cell_type": "code",
   "execution_count": 42,
   "metadata": {
    "collapsed": false
   },
   "outputs": [
    {
     "data": {
      "image/png": "[encoded data removed]",
      "text/plain": [
       "<matplotlib.figure.Figure at 0x7f707ee6ca58>"
      ]
     },
     "metadata": {},
     "output_type": "display_data"
    }
   ],
   "source": [
    "from matplotlib import pyplot as plt\n",
    "plt.scatter([X[i][0] for i in range(len(y)) if y[i] == 1], [X[i][1] for i in range(len(y)) if y[i] == 1], color='red')\n",
    "plt.scatter([X[i][0] for i in range(len(y)) if y[i] == -1], [X[i][1] for i in range(len(y)) if y[i] == -1], color='blue')\n",
    "plt.show()"
   ]
  },
  {
   "cell_type": "code",
   "execution_count": 43,
   "metadata": {
    "collapsed": false
   },
   "outputs": [
    {
     "name": "stdout",
     "output_type": "stream",
     "text": [
      "[ 0.028559432  0.024780879]\n",
      "[0.4944024094831339855, 0.5294967933206296424, 0.49573673120349505766, 0.52822845359425677961]\n"
     ]
    }
   ],
   "source": [
    "print(w_end)\n",
    "y_predict = [1 / (1 + np.exp(-w_end[0] * x[0] -w_end[1] * x[1])) for x in X]\n",
    "print(y_predict[:4])"
   ]
  },
  {
   "cell_type": "code",
   "execution_count": 44,
   "metadata": {
    "collapsed": false
   },
   "outputs": [
    {
     "data": {
      "image/png": "[encoded data removed]",
      "text/plain": [
       "<matplotlib.figure.Figure at 0x7f707ed8c6d8>"
      ]
     },
     "metadata": {},
     "output_type": "display_data"
    }
   ],
   "source": [
    "plt.scatter([X[i][0] for i in range(len(y)) if y_predict[i] >= 0.50], [X[i][1] for i in range(len(y)) if y_predict[i] >= 0.50], color='red', alpha=0.5)\n",
    "plt.scatter([X[i][0] for i in range(len(y)) if y_predict[i] <= 0.50], [X[i][1] for i in range(len(y)) if y_predict[i] <= 0.50], color='blue', alpha=0.5)\n",
    "plt.show()"
   ]
  },
  {
   "cell_type": "markdown",
   "metadata": {},
   "source": [
    "Какое значение принимает AUC-ROC на обучении без регуляризации и при ее использовании? \n",
    "В качестве метрики качества будем использовать AUC-ROC (Area Under ROC-Curve). Она предназначена для алгоритмов бинарной классификации, выдающих оценку принадлежности объекта к одному из классов. По сути, значение этой метрики является агрегацией показателей качества всех алгоритмов, которые можно получить, выбирая какой-либо порог для оценки принадлежности.\n",
    "\n",
    "В Scikit-Learn метрика AUC реализована функцией sklearn.metrics.roc_auc_score. В качестве первого аргумента ей передается вектор истинных ответов, в качестве второго — вектор с оценками принадлежности объектов к первому классу.\n",
    "Эти величины будут ответом на задание. В качестве ответа приведите два числа через пробел. Обратите внимание, что на вход функции roc_auc_score нужно подавать оценки вероятностей, подсчитанные обученным алгоритмом. Для этого воспользуйтесь сигмоидной функцией: a(x) = 1 / (1 + exp(-w1 x1 - w2 x2)). "
   ]
  },
  {
   "cell_type": "code",
   "execution_count": 30,
   "metadata": {
    "collapsed": false
   },
   "outputs": [
    {
     "data": {
      "text/plain": [
       "0.93628571428571417"
      ]
     },
     "execution_count": 30,
     "metadata": {},
     "output_type": "execute_result"
    }
   ],
   "source": [
    "from sklearn.metrics import roc_auc_score\n",
    "roc_auc_score([x == 1 for x in y], np.array(y_predict))"
   ]
  },
  {
   "cell_type": "code",
   "execution_count": null,
   "metadata": {
    "collapsed": true
   },
   "outputs": [],
   "source": []
  },
  {
   "cell_type": "code",
   "execution_count": 172,
   "metadata": {
    "collapsed": false
   },
   "outputs": [
    {
     "name": "stdout",
     "output_type": "stream",
     "text": [
      "count iterations =  723\n",
      "[ 0.28810819  0.091709103]\n",
      "count iterations =  128\n",
      "[ 0.12332762  0.086802871]\n",
      "count iterations =  67\n",
      "[ 0.086603978  0.06674621]\n",
      "count iterations =  44\n",
      "[ 0.068019651  0.054602615]\n",
      "count iterations =  32\n",
      "[ 0.056414958  0.046392856]\n",
      "count iterations =  24\n",
      "[ 0.048360448  0.040417819]\n",
      "count iterations =  18\n",
      "[ 0.042396709  0.035849078]\n",
      "count iterations =  14\n",
      "[ 0.037782556  0.032230439]\n",
      "count iterations =  10\n",
      "[ 0.034096376  0.02928746]\n",
      "count iterations =  12\n",
      "[ 0.031078528  0.026843915]\n",
      "count iterations =  16\n",
      "[ 0.028559432  0.024780879]\n",
      "count iterations =  21\n",
      "[ 0.026423177  0.023014894]\n",
      "count iterations =  27\n",
      "[ 0.024587621  0.021485518]\n",
      "count iterations =  36\n",
      "[ 0.022992799  0.020147818]\n",
      "count iterations =  51\n",
      "[ 0.021593848  0.018967653]\n"
     ]
    },
    {
     "data": {
      "image/png": "[encoded data removed]",
      "text/plain": [
       "<matplotlib.figure.Figure at 0x7fc8e2bc7320>"
      ]
     },
     "metadata": {},
     "output_type": "display_data"
    },
    {
     "data": {
      "image/png": "[encoded data removed]",
      "text/plain": [
       "<matplotlib.figure.Figure at 0x7fc8e25ce048>"
      ]
     },
     "metadata": {},
     "output_type": "display_data"
    }
   ],
   "source": [
    "from matplotlib import pyplot as plt\n",
    "\n",
    "def show_diff_C(c1, c2, c_step):\n",
    "    func_stop = lambda w1, w2, cnt: np.linalg.norm(w1 - w2) < 1e-10 or cnt >= 1000\n",
    "    C = np.arange(2)\n",
    "    scores = {}\n",
    "    for i in np.arange(c1, c2, c_step):\n",
    "        w_end = gradient_find_min([0, 0], func_stop, X, y, 0.1, i)\n",
    "        print(w_end)\n",
    "        y_predict = [1 / (1 + np.exp(-w_end[0] * x[0] -w_end[1] * x[1])) for x in X]\n",
    "        score = roc_auc_score(y, y_predict)\n",
    "        scores[i] = score\n",
    "        plt.scatter(w_end[0], w_end[1], color='blue')\n",
    "    plt.show()\n",
    "    plt.scatter(list(scores.keys()), list(scores.values()), color='red')\n",
    "    plt.show()\n",
    "    return scores\n",
    "scores_C = show_diff_C(0, 15, 1)"
   ]
  },
  {
   "cell_type": "markdown",
   "metadata": {},
   "source": [
    "Попробуйте поменять длину шага. Будет ли сходиться алгоритм, если делать более длинные шаги? Как меняется число итераций при уменьшении длины шага?\n",
    "Попробуйте менять начальное приближение. Влияет ли оно на что-нибудь?"
   ]
  },
  {
   "cell_type": "code",
   "execution_count": 175,
   "metadata": {
    "collapsed": false
   },
   "outputs": [
    {
     "name": "stdout",
     "output_type": "stream",
     "text": [
      "0.927 0.936"
     ]
    }
   ],
   "source": [
    "with open('logistic_regression_ans.txt', 'w') as f:\n",
    "    f.write(' '.join([str(round(x, 3)) for x in[scores_C[0], scores_C[10]]]))\n",
    "!cat logistic_regression_ans.txt"
   ]
  },
  {
   "cell_type": "code",
   "execution_count": null,
   "metadata": {
    "collapsed": true
   },
   "outputs": [],
   "source": []
  }
 ],
 "metadata": {
  "kernelspec": {
   "display_name": "Python 3",
   "language": "python",
   "name": "python3"
  },
  "language_info": {
   "codemirror_mode": {
    "name": "ipython",
    "version": 3
   },
   "file_extension": ".py",
   "mimetype": "text/x-python",
   "name": "python",
   "nbconvert_exporter": "python",
   "pygments_lexer": "ipython3",
   "version": "3.6.0"
  }
 },
 "nbformat": 4,
 "nbformat_minor": 2
}
