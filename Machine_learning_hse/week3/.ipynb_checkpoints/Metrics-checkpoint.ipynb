{
 "cells": [
  {
   "cell_type": "markdown",
   "metadata": {},
   "source": [
    "# Метрики качества"
   ]
  },
  {
   "cell_type": "markdown",
   "metadata": {},
   "source": [
    "Вы научитесь:\n",
    "\n",
    "    вычислять различные меры качества классификации: долю правильных ответов, точность, полноту, AUC-ROC и т.д.\n",
    "    сравнивать алгоритмы классификации при наличии ограничений на точность или полноту\n",
    "\n",
    "Введение\n",
    "\n",
    "В задачах классификации может быть много особенностей, влияющих на подсчет качества: различные цены ошибок, несбалансированность классов и т.д. Из-за этого существует большое количество метрик качества — каждая из них рассчитана на определенное сочетание свойств задачи и требований к ее решению.\n",
    "\n",
    "Меры качества классификации можно разбить на две большие группы: предназначенные для алгоритмов, выдающих номера классов, и для алгоритмов, выдающих оценки принадлежности к классам. К первой группе относятся доля правильных ответов, точность, полнота, F-мера. Ко второй — площади под ROC- или PR-кривой.\n",
    "\n",
    "Различные метрики качества реализованы в пакете sklearn.metrics. Конкретные функции указаны в инструкции по выполнению задания."
   ]
  },
  {
   "cell_type": "code",
   "execution_count": 3,
   "metadata": {
    "collapsed": true
   },
   "outputs": [],
   "source": [
    "import pandas as pd\n",
    "dataframe = pd.read_csv('classification.csv', header=0)"
   ]
  },
  {
   "cell_type": "code",
   "execution_count": 15,
   "metadata": {
    "collapsed": false
   },
   "outputs": [
    {
     "name": "stdout",
     "output_type": "stream",
     "text": [
      "(200, 2)\n"
     ]
    },
    {
     "data": {
      "text/html": [
       "<div>\n",
       "<table border=\"1\" class=\"dataframe\">\n",
       "  <thead>\n",
       "    <tr style=\"text-align: right;\">\n",
       "      <th></th>\n",
       "      <th>true</th>\n",
       "      <th>pred</th>\n",
       "    </tr>\n",
       "  </thead>\n",
       "  <tbody>\n",
       "    <tr>\n",
       "      <th>0</th>\n",
       "      <td>1</td>\n",
       "      <td>0</td>\n",
       "    </tr>\n",
       "    <tr>\n",
       "      <th>1</th>\n",
       "      <td>1</td>\n",
       "      <td>1</td>\n",
       "    </tr>\n",
       "  </tbody>\n",
       "</table>\n",
       "</div>"
      ],
      "text/plain": [
       "   true  pred\n",
       "0     1     0\n",
       "1     1     1"
      ]
     },
     "execution_count": 15,
     "metadata": {},
     "output_type": "execute_result"
    }
   ],
   "source": [
    "print(dataframe.shape)\n",
    "dataframe.head(2)"
   ]
  },
  {
   "cell_type": "markdown",
   "metadata": {},
   "source": [
    "     Заполните таблицу ошибок классификации:\n",
    "\n",
    "                            Actual Positive  Actual Negative\n",
    "        Predicted Positive\t       TP\t      FP\n",
    "        Predicted Negative\t       FN\t      TN\n",
    "\n",
    "Для этого подсчитайте величины TP, FP, FN и TN согласно их определениям. Например, FP — это количество объектов, имеющих класс 0, но отнесенных алгоритмом к классу 1. Ответ в данном вопросе — четыре числа через пробел."
   ]
  },
  {
   "cell_type": "code",
   "execution_count": 16,
   "metadata": {
    "collapsed": false
   },
   "outputs": [
    {
     "name": "stdout",
     "output_type": "stream",
     "text": [
      "43 34 59 64\n"
     ]
    }
   ],
   "source": [
    "import numpy as np\n",
    "data = np.array(dataframe)\n",
    "TP = len([i for i in data if i[0] == 1 and i[1] == 1])\n",
    "FP = len([i for i in data if i[0] == 0 and i[1] == 1])\n",
    "FN = len([i for i in data if i[0] == 1 and i[1] == 0])\n",
    "TN = len([i for i in data if i[0] == 0 and i[1] == 0])\n",
    "print(TP, FP, FN, TN)"
   ]
  },
  {
   "cell_type": "code",
   "execution_count": 17,
   "metadata": {
    "collapsed": false
   },
   "outputs": [
    {
     "name": "stdout",
     "output_type": "stream",
     "text": [
      "43 34 59 64"
     ]
    }
   ],
   "source": [
    "with open('m1.txt', 'w') as f:\n",
    "    f.write(' '.join(str(x) for x in [TP, FP, FN, TN]))\n",
    "!cat m1.txt"
   ]
  },
  {
   "cell_type": "markdown",
   "metadata": {},
   "source": [
    "Посчитайте основные метрики качества классификатора:\n",
    "\n",
    "    Accuracy (доля верно угаданных) — sklearn.metrics.accuracy_score\n",
    "    Precision (точность) — sklearn.metrics.precision_score\n",
    "    Recall (полнота) — sklearn.metrics.recall_score\n",
    "    F-мера — sklearn.metrics.f1_score\n",
    "\n",
    "В качестве ответа укажите эти четыре числа через пробел."
   ]
  },
  {
   "cell_type": "code",
   "execution_count": 20,
   "metadata": {
    "collapsed": false
   },
   "outputs": [],
   "source": [
    "from sklearn import metrics\n",
    "accuracy = metrics.accuracy_score(dataframe.true, dataframe.pred)\n",
    "precision = metrics.precision_score(dataframe.true, dataframe.pred)\n",
    "recall = metrics.recall_score(dataframe.true, dataframe.pred)\n",
    "f_measure = metrics.f1_score(dataframe.true, dataframe.pred)"
   ]
  },
  {
   "cell_type": "code",
   "execution_count": 22,
   "metadata": {
    "collapsed": false
   },
   "outputs": [
    {
     "name": "stdout",
     "output_type": "stream",
     "text": [
      "0.54 0.56 0.42 0.48"
     ]
    }
   ],
   "source": [
    "with open('m2.txt', 'w') as f:\n",
    "    f.write(' '.join(str(round(x, 2)) for x in [accuracy, precision, recall, f_measure]))\n",
    "!cat m2.txt"
   ]
  },
  {
   "cell_type": "markdown",
   "metadata": {},
   "source": [
    "Имеется четыре обученных классификатора. В файле scores.csv записаны истинные классы и значения степени принадлежности положительному классу для каждого классификатора на некоторой выборке:\n",
    "\n",
    "    для логистической регрессии — вероятность положительного класса (колонка score_logreg),\n",
    "    для SVM — отступ от разделяющей поверхности (колонка score_svm),\n",
    "    для метрического алгоритма — взвешенная сумма классов соседей (колонка score_knn),\n",
    "    для решающего дерева — доля положительных объектов в листе (колонка score_tree).\n",
    "\n",
    "Загрузите этот файл."
   ]
  },
  {
   "cell_type": "code",
   "execution_count": 32,
   "metadata": {
    "collapsed": false
   },
   "outputs": [],
   "source": [
    "scores_frame = pd.read_csv('scores.csv')\n",
    "num_class = scores_frame['true']\n",
    "scores_frame = scores_frame.drop('true', axis = 1)"
   ]
  },
  {
   "cell_type": "code",
   "execution_count": 36,
   "metadata": {
    "collapsed": false
   },
   "outputs": [
    {
     "name": "stdout",
     "output_type": "stream",
     "text": [
      "[('score_logreg', 0.71918767507002801), ('score_svm', 0.70868347338935567), ('score_tree', 0.69192677070828335), ('score_knn', 0.63515406162464982)]\n"
     ]
    }
   ],
   "source": [
    "scores = {}\n",
    "for i in scores_frame:\n",
    "    scores[i] = metrics.roc_auc_score(num_class, scores_frame[i])\n",
    "scores = sorted(scores.items(), key=lambda x: x[1], reverse=True)\n",
    "print(scores)"
   ]
  },
  {
   "cell_type": "code",
   "execution_count": 37,
   "metadata": {
    "collapsed": false
   },
   "outputs": [
    {
     "name": "stdout",
     "output_type": "stream",
     "text": [
      "score_logreg"
     ]
    }
   ],
   "source": [
    "with open('m3.txt', 'w') as f:\n",
    "    f.write(scores[0][0])\n",
    "!cat m3.txt"
   ]
  },
  {
   "cell_type": "code",
   "execution_count": 70,
   "metadata": {
    "collapsed": false
   },
   "outputs": [],
   "source": [
    "from matplotlib import pyplot as plt\n",
    "\n",
    "def draw_precision_recall_curve(y_true, y_pred):\n",
    "    prec, rec, thresh = metrics.precision_recall_curve(y_true, y_pred)\n",
    "    plt.plot(rec, prec)\n",
    "    plt.xlabel('recall')\n",
    "    plt.ylabel('precision')\n",
    "    plt.title('PR-кривая')\n",
    "    plt.show()"
   ]
  },
  {
   "cell_type": "code",
   "execution_count": 71,
   "metadata": {
    "collapsed": false
   },
   "outputs": [
    {
     "name": "stdout",
     "output_type": "stream",
     "text": [
      "score_logreg\n"
     ]
    },
    {
     "data": {
      "image/png": "[encoded data removed]",
      "text/plain": [
       "<matplotlib.figure.Figure at 0x7f3bc3942208>"
      ]
     },
     "metadata": {},
     "output_type": "display_data"
    },
    {
     "name": "stdout",
     "output_type": "stream",
     "text": [
      "score_svm\n"
     ]
    },
    {
     "data": {
      "image/png": "[encoded data removed]",
      "text/plain": [
       "<matplotlib.figure.Figure at 0x7f3bc3aba240>"
      ]
     },
     "metadata": {},
     "output_type": "display_data"
    },
    {
     "name": "stdout",
     "output_type": "stream",
     "text": [
      "score_knn\n"
     ]
    },
    {
     "data": {
      "image/png": "[encoded data removed]",
      "text/plain": [
       "<matplotlib.figure.Figure at 0x7f3bc3d25978>"
      ]
     },
     "metadata": {},
     "output_type": "display_data"
    },
    {
     "name": "stdout",
     "output_type": "stream",
     "text": [
      "score_tree\n"
     ]
    },
    {
     "data": {
      "image/png": "[encoded data removed]",
      "text/plain": [
       "<matplotlib.figure.Figure at 0x7f3bc3bf9d68>"
      ]
     },
     "metadata": {},
     "output_type": "display_data"
    }
   ],
   "source": [
    "for i in scores_frame:\n",
    "    print(i)\n",
    "    draw_precision_recall_curve(num_class, scores_frame[i])"
   ]
  },
  {
   "cell_type": "markdown",
   "metadata": {},
   "source": [
    "    Какой классификатор достигает наибольшей точности (Precision) при полноте (Recall) не менее 70% ?\n",
    "\n",
    "Чтобы получить ответ на этот вопрос, найдите все точки precision-recall-кривой с помощью функции sklearn.metrics.precision_recall_curve. Она возвращает три массива: precision, recall, thresholds. В них записаны точность и полнота при определенных порогах, указанных в массиве thresholds. Найдите максимальной значение точности среди тех записей, для которых полнота не меньше, чем 0.7."
   ]
  },
  {
   "cell_type": "code",
   "execution_count": 56,
   "metadata": {
    "collapsed": true
   },
   "outputs": [],
   "source": [
    "def get_max_prec_for_need_recall(y_true, y_score, func_need_recall):\n",
    "    prec, rec, thresh = metrics.precision_recall_curve(y_true, y_score)\n",
    "    good_prec = [prec[i] for i in range(len(rec)) if func_need_recall(rec[i])]\n",
    "    return np.max(good_prec)"
   ]
  },
  {
   "cell_type": "code",
   "execution_count": 65,
   "metadata": {
    "collapsed": false
   },
   "outputs": [
    {
     "name": "stdout",
     "output_type": "stream",
     "text": [
      "score_logreg 0.63025210084\n",
      "score_svm 0.622807017544\n",
      "score_knn 0.606557377049\n",
      "score_tree 0.651785714286\n"
     ]
    }
   ],
   "source": [
    "best_recalls_dict = {}\n",
    "for i in scores_frame:\n",
    "    best_recalls_dict[i] = get_max_prec_for_need_recall(num_class, scores_frame[i], lambda x: x >= 0.7)\n",
    "    print(i, get_max_prec_for_need_recall(num_class, scores_frame[i], lambda x: x >= 0.7))"
   ]
  },
  {
   "cell_type": "code",
   "execution_count": 68,
   "metadata": {
    "collapsed": false
   },
   "outputs": [
    {
     "name": "stdout",
     "output_type": "stream",
     "text": [
      "('score_tree', 0.6517857142857143)\n"
     ]
    }
   ],
   "source": [
    "best_recalls = sorted(best_recalls_dict.items(), key=lambda x: x[1], reverse=True)\n",
    "print(best_recalls[0])"
   ]
  },
  {
   "cell_type": "code",
   "execution_count": 69,
   "metadata": {
    "collapsed": false
   },
   "outputs": [
    {
     "name": "stdout",
     "output_type": "stream",
     "text": [
      "score_tree"
     ]
    }
   ],
   "source": [
    "with open('m4.txt', 'w') as f:\n",
    "    f.write(best_recalls[0][0])\n",
    "!cat m4.txt"
   ]
  },
  {
   "cell_type": "code",
   "execution_count": null,
   "metadata": {
    "collapsed": true
   },
   "outputs": [],
   "source": []
  }
 ],
 "metadata": {
  "kernelspec": {
   "display_name": "Python 3",
   "language": "python",
   "name": "python3"
  },
  "language_info": {
   "codemirror_mode": {
    "name": "ipython",
    "version": 3
   },
   "file_extension": ".py",
   "mimetype": "text/x-python",
   "name": "python",
   "nbconvert_exporter": "python",
   "pygments_lexer": "ipython3",
   "version": "3.6.0"
  }
 },
 "nbformat": 4,
 "nbformat_minor": 2
}
