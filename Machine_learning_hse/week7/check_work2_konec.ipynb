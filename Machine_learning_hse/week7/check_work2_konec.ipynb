{
 "cells": [
  {
   "cell_type": "code",
   "execution_count": 1,
   "metadata": {
    "collapsed": true
   },
   "outputs": [],
   "source": [
    "import pandas as pd\n",
    "import time\n",
    "import datetime\n",
    "from sklearn.metrics import roc_auc_score\n",
    "from sklearn.ensemble import GradientBoostingClassifier\n",
    "import numpy as np\n",
    "from sklearn.linear_model import LogisticRegression\n",
    "from sklearn.model_selection import KFold\n",
    "from sklearn.preprocessing import StandardScaler"
   ]
  },
  {
   "cell_type": "code",
   "execution_count": 2,
   "metadata": {
    "collapsed": true
   },
   "outputs": [],
   "source": [
    "data = pd.read_csv('features.csv', index_col = 'match_id')\n",
    "test = pd.read_csv('features_test.csv',index_col='match_id')"
   ]
  },
  {
   "cell_type": "code",
   "execution_count": 3,
   "metadata": {
    "collapsed": true
   },
   "outputs": [],
   "source": [
    "#удаление признаков, связанных с итогами матча\n",
    "to_drop = []\n",
    "for i in data.columns:\n",
    "    if i not in test.columns:\n",
    "        to_drop.append(i)\n",
    "        \n",
    "X=data.drop(to_drop,axis = 1)"
   ]
  },
  {
   "cell_type": "code",
   "execution_count": 4,
   "metadata": {
    "collapsed": false
   },
   "outputs": [
    {
     "name": "stdout",
     "output_type": "stream",
     "text": [
      "first_blood_time\n",
      "first_blood_team\n",
      "first_blood_player1\n",
      "first_blood_player2\n",
      "radiant_bottle_time\n",
      "radiant_courier_time\n",
      "radiant_flying_courier_time\n",
      "radiant_first_ward_time\n",
      "dire_bottle_time\n",
      "dire_courier_time\n",
      "dire_flying_courier_time\n",
      "dire_first_ward_time\n",
      "12  признаков из  102 имеют пропуски. ( 11.76470588235294 %)\n"
     ]
    }
   ],
   "source": [
    "#пропуски\n",
    "kol = 0\n",
    "for i in X.columns:\n",
    "    if X[i].count() != X.shape[0]:\n",
    "        print(i)\n",
    "        kol +=1\n",
    "print(kol,' признаков из ',X.shape[1],'имеют пропуски. (',kol/X.shape[1]*100,'%)')"
   ]
  },
  {
   "cell_type": "code",
   "execution_count": 5,
   "metadata": {
    "collapsed": true
   },
   "outputs": [],
   "source": [
    "#Все эти признаки могут иметь пропуски, так как события, им\n",
    "#соответствующие, могли не произойти в первые 5 минут матча."
   ]
  },
  {
   "cell_type": "code",
   "execution_count": 6,
   "metadata": {
    "collapsed": true
   },
   "outputs": [],
   "source": [
    "#заполнение пропусков нулями\n",
    "X.fillna(value=0,inplace=True)"
   ]
  },
  {
   "cell_type": "code",
   "execution_count": 7,
   "metadata": {
    "collapsed": true
   },
   "outputs": [],
   "source": [
    "#столбец целевой переменной\n",
    "y = data['radiant_win']"
   ]
  },
  {
   "cell_type": "code",
   "execution_count": 8,
   "metadata": {
    "collapsed": false
   },
   "outputs": [
    {
     "data": {
      "text/plain": [
       "array([1, 0, 0, ..., 0, 0, 1], dtype=int64)"
      ]
     },
     "execution_count": 8,
     "metadata": {},
     "output_type": "execute_result"
    }
   ],
   "source": [
    "cv = KFold(n_splits=5,shuffle=True)\n",
    "\n",
    "X_1 = np.array(X)\n",
    "y_1 = np.array(y)\n",
    "np.delete(X_1,0, 0)\n",
    "np.delete(y_1,0,0)"
   ]
  },
  {
   "cell_type": "code",
   "execution_count": 9,
   "metadata": {
    "collapsed": false
   },
   "outputs": [
    {
     "name": "stdout",
     "output_type": "stream",
     "text": [
      "Learning rate =  0.1\n",
      "\tNumber of estimators:  5\n",
      "\tMean roc auc score:  0.636128094942\n",
      "\tTime elapsed:  0:00:15.073819 \n",
      "\n",
      "\tNumber of estimators:  10\n",
      "\tMean roc auc score:  0.664564552611\n",
      "\tTime elapsed:  0:00:32.791749 \n",
      "\n",
      "\tNumber of estimators:  20\n",
      "\tMean roc auc score:  0.682313970098\n",
      "\tTime elapsed:  0:00:56.122964 \n",
      "\n",
      "\tNumber of estimators:  30\n",
      "\tMean roc auc score:  0.689773451365\n",
      "\tTime elapsed:  0:01:12.651712 \n",
      "\n",
      "\tNumber of estimators:  35\n",
      "\tMean roc auc score:  0.691756172706\n",
      "\tTime elapsed:  0:01:24.136885 \n",
      "\n",
      "\tNumber of estimators:  40\n",
      "\tMean roc auc score:  0.693912003844\n",
      "\tTime elapsed:  0:01:37.220189 \n",
      "\n",
      "\n",
      "-----------------------------------------------\n",
      "\n",
      "Learning rate =  0.2\n",
      "\tNumber of estimators:  5\n",
      "\tMean roc auc score:  0.655927524535\n",
      "\tTime elapsed:  0:00:14.992671 \n",
      "\n",
      "\tNumber of estimators:  10\n",
      "\tMean roc auc score:  0.67641991503\n",
      "\tTime elapsed:  0:00:27.085280 \n",
      "\n",
      "\tNumber of estimators:  20\n",
      "\tMean roc auc score:  0.691606814007\n",
      "\tTime elapsed:  0:00:50.910237 \n",
      "\n",
      "\tNumber of estimators:  30\n",
      "\tMean roc auc score:  0.698630561743\n",
      "\tTime elapsed:  0:01:13.132055 \n",
      "\n",
      "\tNumber of estimators:  35\n",
      "\tMean roc auc score:  0.699287920028\n",
      "\tTime elapsed:  0:01:24.964478 \n",
      "\n",
      "\tNumber of estimators:  40\n",
      "\tMean roc auc score:  0.701934207296\n",
      "\tTime elapsed:  0:01:37.826644 \n",
      "\n",
      "\n",
      "-----------------------------------------------\n",
      "\n",
      "Learning rate =  0.3\n",
      "\tNumber of estimators:  5\n",
      "\tMean roc auc score:  0.665891474405\n",
      "\tTime elapsed:  0:00:14.183067 \n",
      "\n",
      "\tNumber of estimators:  10\n",
      "\tMean roc auc score:  0.682753662707\n",
      "\tTime elapsed:  0:00:26.183649 \n",
      "\n",
      "\tNumber of estimators:  20\n",
      "\tMean roc auc score:  0.694757094448\n",
      "\tTime elapsed:  0:00:54.799801 \n",
      "\n",
      "\tNumber of estimators:  30\n",
      "\tMean roc auc score:  0.701001447221\n",
      "\tTime elapsed:  0:01:20.233988 \n",
      "\n",
      "\tNumber of estimators:  35\n",
      "\tMean roc auc score:  0.704045983882\n",
      "\tTime elapsed:  0:01:32.633015 \n",
      "\n",
      "\tNumber of estimators:  40\n",
      "\tMean roc auc score:  0.705497104743\n",
      "\tTime elapsed:  0:01:46.830977 \n",
      "\n",
      "\n",
      "-----------------------------------------------\n",
      "\n",
      "Learning rate =  0.5\n",
      "\tNumber of estimators:  5\n",
      "\tMean roc auc score:  0.666894883695\n",
      "\tTime elapsed:  0:00:18.292252 \n",
      "\n",
      "\tNumber of estimators:  10\n",
      "\tMean roc auc score:  0.685758696021\n",
      "\tTime elapsed:  0:00:29.771645 \n",
      "\n",
      "\tNumber of estimators:  20\n",
      "\tMean roc auc score:  0.697930310035\n",
      "\tTime elapsed:  0:00:55.625897 \n",
      "\n",
      "\tNumber of estimators:  30\n",
      "\tMean roc auc score:  0.702854114055\n",
      "\tTime elapsed:  0:01:25.731145 \n",
      "\n",
      "\tNumber of estimators:  35\n",
      "\tMean roc auc score:  0.705332144472\n",
      "\tTime elapsed:  0:01:34.890128 \n",
      "\n",
      "\tNumber of estimators:  40\n",
      "\tMean roc auc score:  0.706336860703\n",
      "\tTime elapsed:  0:02:00.092197 \n",
      "\n",
      "\n",
      "-----------------------------------------------\n",
      "\n",
      "Learning rate =  1\n",
      "\tNumber of estimators:  5\n",
      "\tMean roc auc score:  0.668078569315\n",
      "\tTime elapsed:  0:00:16.937092 \n",
      "\n",
      "\tNumber of estimators:  10\n",
      "\tMean roc auc score:  0.685829238867\n",
      "\tTime elapsed:  0:00:30.551103 \n",
      "\n",
      "\tNumber of estimators:  20\n",
      "\tMean roc auc score:  0.692554091655\n",
      "\tTime elapsed:  0:01:00.412127 \n",
      "\n",
      "\tNumber of estimators:  30\n",
      "\tMean roc auc score:  0.695754339\n",
      "\tTime elapsed:  0:01:27.442991 \n",
      "\n",
      "\tNumber of estimators:  35\n",
      "\tMean roc auc score:  0.697014394974\n",
      "\tTime elapsed:  0:01:40.190864 \n",
      "\n",
      "\tNumber of estimators:  40\n",
      "\tMean roc auc score:  0.699181892992\n",
      "\tTime elapsed:  0:01:47.893631 \n",
      "\n",
      "\n",
      "-----------------------------------------------\n",
      "\n",
      "Duration: 0:31:29.608244\n"
     ]
    }
   ],
   "source": [
    "nachalo = datetime.datetime.now()\n",
    "\n",
    "kolvo = [5,10,20,30,35,40]\n",
    "learning_rate = [0.1,0.2,0.3,0.5,1]\n",
    "\n",
    "for lr in learning_rate:\n",
    "    print('Learning rate = ',lr)\n",
    "    for n in kolvo:\n",
    "        print('\\tNumber of estimators: ',n)\n",
    "        start_time = datetime.datetime.now()\n",
    "        score = 0\n",
    "        clf = GradientBoostingClassifier(n_estimators = n,learning_rate=lr)\n",
    "        for train_id,test_id in cv.split(X_1):\n",
    "            X_train,X_test = X_1[train_id], X_1[test_id]\n",
    "            y_train,y_test = y_1[train_id], y_1[test_id]\n",
    "            clf.fit(X_train,y_train)\n",
    "            pred = clf.predict_proba(X_test)[:,1]\n",
    "            score += roc_auc_score(y_test,pred)\n",
    "        score/=5\n",
    "        print('\\tMean roc auc score: ',score)\n",
    "        print('\\tTime elapsed: ',datetime.datetime.now()-start_time,'\\n')\n",
    "    print('\\n-----------------------------------------------\\n')\n",
    "\n",
    "print('Duration:',datetime.datetime.now()-nachalo)"
   ]
  },
  {
   "cell_type": "code",
   "execution_count": 10,
   "metadata": {
    "collapsed": true
   },
   "outputs": [],
   "source": [
    "#масштабирование\n",
    "X_1 = StandardScaler(copy = False).fit_transform(X_1)"
   ]
  },
  {
   "cell_type": "code",
   "execution_count": 11,
   "metadata": {
    "collapsed": false
   },
   "outputs": [
    {
     "name": "stdout",
     "output_type": "stream",
     "text": [
      "C =  1e-05\n",
      "Mean auc roc score:  0.695119475452\n",
      "C =  0.0001\n",
      "Mean auc roc score:  0.711273015757\n",
      "C =  0.001\n",
      "Mean auc roc score:  0.716205927228\n",
      "C =  0.01\n",
      "Mean auc roc score:  0.716350860972\n",
      "C =  0.1\n",
      "Mean auc roc score:  0.716323526629\n",
      "C =  1.0\n",
      "Mean auc roc score:  0.716354083048\n",
      "C =  10.0\n",
      "Mean auc roc score:  0.716412706907\n",
      "C =  100.0\n",
      "Mean auc roc score:  0.716483205999\n",
      "C =  1000.0\n",
      "Mean auc roc score:  0.716390590332\n",
      "C =  10000.0\n",
      "Mean auc roc score:  0.716486399241\n",
      "C =  100000.0\n",
      "Mean auc roc score:  0.716448741963\n"
     ]
    }
   ],
   "source": [
    "grid = np.power(10.0, np.arange(-5, 6))\n",
    "\n",
    "for C in grid:\n",
    "    print('C = ',C)\n",
    "    score = 0\n",
    "    clf = LogisticRegression(C = C)\n",
    "    for train_id, test_id in cv.split(X_1):\n",
    "        X_train,X_test = X_1[train_id], X_1[test_id]\n",
    "        y_train,y_test = y_1[train_id], y_1[test_id]\n",
    "        clf.fit(X_train,y_train)\n",
    "        pred = clf.predict_proba(X_test)[:,1]\n",
    "        score += roc_auc_score(y_test,pred)\n",
    "    score/=5\n",
    "    print('Mean auc roc score: ',score)\n"
   ]
  },
  {
   "cell_type": "code",
   "execution_count": 12,
   "metadata": {
    "collapsed": true
   },
   "outputs": [],
   "source": [
    "features = ['r1_hero','r2_hero','r3_hero','r4_hero','r5_hero','d1_hero','d2_hero','d3_hero','d4_hero','d5_hero']"
   ]
  },
  {
   "cell_type": "code",
   "execution_count": 15,
   "metadata": {
    "collapsed": true
   },
   "outputs": [],
   "source": [
    "#удаление категориальных признаков\n",
    "X_2 = X.drop(['lobby_type']+features,axis=1)\n",
    "X_2 = np.array(X_2)\n",
    "np.delete(X_2,0,0)\n",
    "X_2=StandardScaler(copy = False).fit_transform(X_2)"
   ]
  },
  {
   "cell_type": "code",
   "execution_count": 16,
   "metadata": {
    "collapsed": false
   },
   "outputs": [
    {
     "name": "stdout",
     "output_type": "stream",
     "text": [
      "C =  1e-05\n",
      "Mean auc roc score:  0.69494438105\n",
      "C =  0.0001\n",
      "Mean auc roc score:  0.711212332405\n",
      "C =  0.001\n",
      "Mean auc roc score:  0.716079683196\n",
      "C =  0.01\n",
      "Mean auc roc score:  0.716630386392\n",
      "C =  0.1\n",
      "Mean auc roc score:  0.716387337233\n",
      "C =  1.0\n",
      "Mean auc roc score:  0.716357234881\n",
      "C =  10.0\n",
      "Mean auc roc score:  0.716255183161\n",
      "C =  100.0\n",
      "Mean auc roc score:  0.716565587698\n",
      "C =  1000.0\n",
      "Mean auc roc score:  0.716513573643\n",
      "C =  10000.0\n",
      "Mean auc roc score:  0.716465427901\n",
      "C =  100000.0\n",
      "Mean auc roc score:  0.716434839021\n"
     ]
    }
   ],
   "source": [
    "grid = np.power(10.0, np.arange(-5, 6))\n",
    "\n",
    "for C in grid:\n",
    "    print('C = ',C)\n",
    "    score = 0\n",
    "    clf = LogisticRegression(C = C)\n",
    "    for train_id, test_id in cv.split(X_2):\n",
    "        X_train,X_test = X_2[train_id], X_2[test_id]\n",
    "        y_train,y_test = y_1[train_id], y_1[test_id]\n",
    "        clf.fit(X_train,y_train)\n",
    "        pred = clf.predict_proba(X_test)[:,1]\n",
    "        score += roc_auc_score(y_test,pred)\n",
    "    score/=5\n",
    "    print('Mean auc roc score: ',score)\n"
   ]
  },
  {
   "cell_type": "code",
   "execution_count": 17,
   "metadata": {
    "collapsed": false
   },
   "outputs": [
    {
     "name": "stdout",
     "output_type": "stream",
     "text": [
      "112\n",
      "108\n"
     ]
    }
   ],
   "source": [
    "print(max(data['r1_hero'].unique()))\n",
    "print(len(data['r1_hero'].unique()))"
   ]
  },
  {
   "cell_type": "code",
   "execution_count": 18,
   "metadata": {
    "collapsed": true
   },
   "outputs": [],
   "source": [
    "def makeBag(data):\n",
    "    X_pick = np.zeros((data.shape[0],112))\n",
    "\n",
    "    for i,match_id in enumerate(data.index):\n",
    "        for p in range(5):\n",
    "            X_pick[i, data.ix[match_id, 'r%d_hero' % (p+1)]-1] = 1\n",
    "            X_pick[i, data.ix[match_id, 'd%d_hero' % (p+1)]-1] = -1 \n",
    "    return X_pick"
   ]
  },
  {
   "cell_type": "code",
   "execution_count": 19,
   "metadata": {
    "collapsed": false
   },
   "outputs": [
    {
     "name": "stderr",
     "output_type": "stream",
     "text": [
      "C:\\Users\\1\\Anaconda3\\lib\\site-packages\\ipykernel_launcher.py:6: DeprecationWarning: \n",
      ".ix is deprecated. Please use\n",
      ".loc for label based indexing or\n",
      ".iloc for positional indexing\n",
      "\n",
      "See the documentation here:\n",
      "http://pandas.pydata.org/pandas-docs/stable/indexing.html#deprecate_ix\n",
      "  \n"
     ]
    }
   ],
   "source": [
    "X_3 = np.hstack((X_2,makeBag(data)))"
   ]
  },
  {
   "cell_type": "code",
   "execution_count": 20,
   "metadata": {
    "collapsed": false
   },
   "outputs": [
    {
     "name": "stdout",
     "output_type": "stream",
     "text": [
      "C =  1e-05\n",
      "Mean auc roc score:  0.699224002541\n",
      "C =  0.0001\n",
      "Mean auc roc score:  0.724880819244\n",
      "C =  0.001\n",
      "Mean auc roc score:  0.746299831888\n",
      "C =  0.01\n",
      "Mean auc roc score:  0.751577026586\n",
      "C =  0.1\n",
      "Mean auc roc score:  0.751830964069\n",
      "C =  1.0\n",
      "Mean auc roc score:  0.751675566088\n",
      "C =  10.0\n",
      "Mean auc roc score:  0.752004372175\n",
      "C =  100.0\n",
      "Mean auc roc score:  0.751752564226\n",
      "C =  1000.0\n",
      "Mean auc roc score:  0.751808719486\n",
      "C =  10000.0\n",
      "Mean auc roc score:  0.751816593076\n",
      "C =  100000.0\n",
      "Mean auc roc score:  0.751803868875\n"
     ]
    }
   ],
   "source": [
    "grid = np.power(10.0, np.arange(-5, 6))\n",
    "\n",
    "for C in grid:\n",
    "    print('C = ',C)\n",
    "    score = 0\n",
    "    clf = LogisticRegression(C = C)\n",
    "    for train_id, test_id in cv.split(X_3):\n",
    "        X_train,X_test = X_3[train_id], X_3[test_id]\n",
    "        y_train,y_test = y_1[train_id], y_1[test_id]\n",
    "        clf.fit(X_train,y_train)\n",
    "        pred = clf.predict_proba(X_test)[:,1]\n",
    "        score += roc_auc_score(y_test,pred)\n",
    "    score/=5\n",
    "    print('Mean auc roc score: ',score)\n"
   ]
  },
  {
   "cell_type": "code",
   "execution_count": 21,
   "metadata": {
    "collapsed": false,
    "scrolled": true
   },
   "outputs": [
    {
     "name": "stderr",
     "output_type": "stream",
     "text": [
      "C:\\Users\\1\\Anaconda3\\lib\\site-packages\\ipykernel_launcher.py:6: DeprecationWarning: \n",
      ".ix is deprecated. Please use\n",
      ".loc for label based indexing or\n",
      ".iloc for positional indexing\n",
      "\n",
      "See the documentation here:\n",
      "http://pandas.pydata.org/pandas-docs/stable/indexing.html#deprecate_ix\n",
      "  \n"
     ]
    }
   ],
   "source": [
    "#для тестовой\n",
    "test.fillna(0,inplace = True) \n",
    "make_test = np.hstack((test.drop(features+['lobby_type'],axis=1),makeBag(test)))\n",
    "make_test = StandardScaler(copy = False).fit_transform(make_test)\n",
    "\n",
    "clf = LogisticRegression(C = 10)\n",
    "clf.fit(X_3,y_1)\n",
    "pred = clf.predict_proba(make_test)[:,1]"
   ]
  },
  {
   "cell_type": "code",
   "execution_count": 23,
   "metadata": {
    "collapsed": false
   },
   "outputs": [
    {
     "data": {
      "text/plain": [
       "array([ 0.59376988,  0.04700281,  0.75457189,  0.3561409 ,  0.79652291,\n",
       "        0.1728468 ,  0.79804254,  0.34413269,  0.73988984,  0.8972236 ])"
      ]
     },
     "execution_count": 23,
     "metadata": {},
     "output_type": "execute_result"
    }
   ],
   "source": [
    "pred[100:110]"
   ]
  },
  {
   "cell_type": "code",
   "execution_count": 25,
   "metadata": {
    "collapsed": true
   },
   "outputs": [],
   "source": [
    "f = open('rez.csv','w')\n",
    "\n",
    "f.write('match_id,radiant_win')\n",
    "f.write('\\n')\n",
    "for i in range(test.shape[0]):\n",
    "    f.write(str(test.index[i]))\n",
    "    f.write(',')\n",
    "    f.write(str(pred[i]))\n",
    "    f.write('\\n')\n",
    "\n",
    "f.close()"
   ]
  }
 ],
 "metadata": {
  "kernelspec": {
   "display_name": "Python 3",
   "language": "python",
   "name": "python3"
  },
  "language_info": {
   "codemirror_mode": {
    "name": "ipython",
    "version": 3
   },
   "file_extension": ".py",
   "mimetype": "text/x-python",
   "name": "python",
   "nbconvert_exporter": "python",
   "pygments_lexer": "ipython3",
   "version": "3.6.0"
  }
 },
 "nbformat": 4,
 "nbformat_minor": 2
}
