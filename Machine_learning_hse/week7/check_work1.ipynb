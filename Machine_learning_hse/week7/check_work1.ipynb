{
 "cells": [
  {
   "cell_type": "code",
   "execution_count": 1,
   "metadata": {
    "collapsed": true
   },
   "outputs": [],
   "source": [
    "import pandas as pd\n",
    "import numpy as np\n",
    "from sklearn.model_selection import KFold\n",
    "from sklearn.ensemble import GradientBoostingClassifier\n",
    "from sklearn.model_selection import cross_val_score\n",
    "from matplotlib import pyplot as plt\n",
    "%matplotlib inline"
   ]
  },
  {
   "cell_type": "markdown",
   "metadata": {},
   "source": [
    "## Подход 1"
   ]
  },
  {
   "cell_type": "code",
   "execution_count": 2,
   "metadata": {
    "collapsed": false
   },
   "outputs": [
    {
     "name": "stdout",
     "output_type": "stream",
     "text": [
      "(97230, 101)\n"
     ]
    },
    {
     "data": {
      "text/html": [
       "<div>\n",
       "<style>\n",
       "    .dataframe thead tr:only-child th {\n",
       "        text-align: right;\n",
       "    }\n",
       "\n",
       "    .dataframe thead th {\n",
       "        text-align: left;\n",
       "    }\n",
       "\n",
       "    .dataframe tbody tr th {\n",
       "        vertical-align: top;\n",
       "    }\n",
       "</style>\n",
       "<table border=\"1\" class=\"dataframe\">\n",
       "  <thead>\n",
       "    <tr style=\"text-align: right;\">\n",
       "      <th></th>\n",
       "      <th>lobby_type</th>\n",
       "      <th>r1_hero</th>\n",
       "      <th>r1_level</th>\n",
       "      <th>r1_xp</th>\n",
       "      <th>r1_gold</th>\n",
       "      <th>r1_lh</th>\n",
       "      <th>r1_kills</th>\n",
       "      <th>r1_deaths</th>\n",
       "      <th>r1_items</th>\n",
       "      <th>r2_hero</th>\n",
       "      <th>...</th>\n",
       "      <th>radiant_ward_sentry_count</th>\n",
       "      <th>radiant_first_ward_time</th>\n",
       "      <th>dire_bottle_time</th>\n",
       "      <th>dire_courier_time</th>\n",
       "      <th>dire_flying_courier_time</th>\n",
       "      <th>dire_tpscroll_count</th>\n",
       "      <th>dire_boots_count</th>\n",
       "      <th>dire_ward_observer_count</th>\n",
       "      <th>dire_ward_sentry_count</th>\n",
       "      <th>dire_first_ward_time</th>\n",
       "    </tr>\n",
       "    <tr>\n",
       "      <th>match_id</th>\n",
       "      <th></th>\n",
       "      <th></th>\n",
       "      <th></th>\n",
       "      <th></th>\n",
       "      <th></th>\n",
       "      <th></th>\n",
       "      <th></th>\n",
       "      <th></th>\n",
       "      <th></th>\n",
       "      <th></th>\n",
       "      <th></th>\n",
       "      <th></th>\n",
       "      <th></th>\n",
       "      <th></th>\n",
       "      <th></th>\n",
       "      <th></th>\n",
       "      <th></th>\n",
       "      <th></th>\n",
       "      <th></th>\n",
       "      <th></th>\n",
       "      <th></th>\n",
       "    </tr>\n",
       "  </thead>\n",
       "  <tbody>\n",
       "    <tr>\n",
       "      <th>0</th>\n",
       "      <td>7</td>\n",
       "      <td>11</td>\n",
       "      <td>5</td>\n",
       "      <td>2098</td>\n",
       "      <td>1489</td>\n",
       "      <td>20</td>\n",
       "      <td>0</td>\n",
       "      <td>0</td>\n",
       "      <td>7</td>\n",
       "      <td>67</td>\n",
       "      <td>...</td>\n",
       "      <td>0</td>\n",
       "      <td>35.0</td>\n",
       "      <td>103.0</td>\n",
       "      <td>-84.0</td>\n",
       "      <td>221.0</td>\n",
       "      <td>3</td>\n",
       "      <td>4</td>\n",
       "      <td>2</td>\n",
       "      <td>2</td>\n",
       "      <td>-52.0</td>\n",
       "    </tr>\n",
       "    <tr>\n",
       "      <th>1</th>\n",
       "      <td>0</td>\n",
       "      <td>42</td>\n",
       "      <td>4</td>\n",
       "      <td>1188</td>\n",
       "      <td>1033</td>\n",
       "      <td>9</td>\n",
       "      <td>0</td>\n",
       "      <td>1</td>\n",
       "      <td>12</td>\n",
       "      <td>49</td>\n",
       "      <td>...</td>\n",
       "      <td>0</td>\n",
       "      <td>-20.0</td>\n",
       "      <td>149.0</td>\n",
       "      <td>-84.0</td>\n",
       "      <td>195.0</td>\n",
       "      <td>5</td>\n",
       "      <td>4</td>\n",
       "      <td>3</td>\n",
       "      <td>1</td>\n",
       "      <td>-5.0</td>\n",
       "    </tr>\n",
       "    <tr>\n",
       "      <th>2</th>\n",
       "      <td>7</td>\n",
       "      <td>33</td>\n",
       "      <td>4</td>\n",
       "      <td>1319</td>\n",
       "      <td>1270</td>\n",
       "      <td>22</td>\n",
       "      <td>0</td>\n",
       "      <td>0</td>\n",
       "      <td>12</td>\n",
       "      <td>98</td>\n",
       "      <td>...</td>\n",
       "      <td>1</td>\n",
       "      <td>-39.0</td>\n",
       "      <td>45.0</td>\n",
       "      <td>-77.0</td>\n",
       "      <td>221.0</td>\n",
       "      <td>3</td>\n",
       "      <td>4</td>\n",
       "      <td>3</td>\n",
       "      <td>1</td>\n",
       "      <td>13.0</td>\n",
       "    </tr>\n",
       "    <tr>\n",
       "      <th>3</th>\n",
       "      <td>1</td>\n",
       "      <td>29</td>\n",
       "      <td>4</td>\n",
       "      <td>1779</td>\n",
       "      <td>1056</td>\n",
       "      <td>14</td>\n",
       "      <td>0</td>\n",
       "      <td>0</td>\n",
       "      <td>5</td>\n",
       "      <td>30</td>\n",
       "      <td>...</td>\n",
       "      <td>0</td>\n",
       "      <td>-30.0</td>\n",
       "      <td>124.0</td>\n",
       "      <td>-80.0</td>\n",
       "      <td>184.0</td>\n",
       "      <td>0</td>\n",
       "      <td>4</td>\n",
       "      <td>2</td>\n",
       "      <td>0</td>\n",
       "      <td>27.0</td>\n",
       "    </tr>\n",
       "    <tr>\n",
       "      <th>4</th>\n",
       "      <td>7</td>\n",
       "      <td>13</td>\n",
       "      <td>4</td>\n",
       "      <td>1431</td>\n",
       "      <td>1090</td>\n",
       "      <td>8</td>\n",
       "      <td>1</td>\n",
       "      <td>0</td>\n",
       "      <td>8</td>\n",
       "      <td>27</td>\n",
       "      <td>...</td>\n",
       "      <td>0</td>\n",
       "      <td>46.0</td>\n",
       "      <td>182.0</td>\n",
       "      <td>-80.0</td>\n",
       "      <td>225.0</td>\n",
       "      <td>6</td>\n",
       "      <td>3</td>\n",
       "      <td>3</td>\n",
       "      <td>0</td>\n",
       "      <td>-16.0</td>\n",
       "    </tr>\n",
       "  </tbody>\n",
       "</table>\n",
       "<p>5 rows × 101 columns</p>\n",
       "</div>"
      ],
      "text/plain": [
       "          lobby_type  r1_hero  r1_level  r1_xp  r1_gold  r1_lh  r1_kills  \\\n",
       "match_id                                                                   \n",
       "0                  7       11         5   2098     1489     20         0   \n",
       "1                  0       42         4   1188     1033      9         0   \n",
       "2                  7       33         4   1319     1270     22         0   \n",
       "3                  1       29         4   1779     1056     14         0   \n",
       "4                  7       13         4   1431     1090      8         1   \n",
       "\n",
       "          r1_deaths  r1_items  r2_hero          ...           \\\n",
       "match_id                                        ...            \n",
       "0                 0         7       67          ...            \n",
       "1                 1        12       49          ...            \n",
       "2                 0        12       98          ...            \n",
       "3                 0         5       30          ...            \n",
       "4                 0         8       27          ...            \n",
       "\n",
       "          radiant_ward_sentry_count  radiant_first_ward_time  \\\n",
       "match_id                                                       \n",
       "0                                 0                     35.0   \n",
       "1                                 0                    -20.0   \n",
       "2                                 1                    -39.0   \n",
       "3                                 0                    -30.0   \n",
       "4                                 0                     46.0   \n",
       "\n",
       "          dire_bottle_time  dire_courier_time  dire_flying_courier_time  \\\n",
       "match_id                                                                  \n",
       "0                    103.0              -84.0                     221.0   \n",
       "1                    149.0              -84.0                     195.0   \n",
       "2                     45.0              -77.0                     221.0   \n",
       "3                    124.0              -80.0                     184.0   \n",
       "4                    182.0              -80.0                     225.0   \n",
       "\n",
       "          dire_tpscroll_count  dire_boots_count  dire_ward_observer_count  \\\n",
       "match_id                                                                    \n",
       "0                           3                 4                         2   \n",
       "1                           5                 4                         3   \n",
       "2                           3                 4                         3   \n",
       "3                           0                 4                         2   \n",
       "4                           6                 3                         3   \n",
       "\n",
       "          dire_ward_sentry_count  dire_first_ward_time  \n",
       "match_id                                                \n",
       "0                              2                 -52.0  \n",
       "1                              1                  -5.0  \n",
       "2                              1                  13.0  \n",
       "3                              0                  27.0  \n",
       "4                              0                 -16.0  \n",
       "\n",
       "[5 rows x 101 columns]"
      ]
     },
     "execution_count": 2,
     "metadata": {},
     "output_type": "execute_result"
    }
   ],
   "source": [
    "data = pd.read_csv('./features.csv', index_col='match_id')\n",
    "y = data['radiant_win'] # пункт 4. В колонке Radiant_win целевая переменная\n",
    "result_columns = ['start_time','duration','radiant_win','tower_status_radiant','tower_status_dire','barracks_status_radiant','barracks_status_dire']\n",
    "data.drop(result_columns,axis=1,inplace=True)\n",
    "print data.shape\n",
    "data.head()\n",
    "# пункт 1"
   ]
  },
  {
   "cell_type": "code",
   "execution_count": 3,
   "metadata": {
    "collapsed": false
   },
   "outputs": [
    {
     "data": {
      "text/plain": [
       "lobby_type                     97230\n",
       "r1_hero                        97230\n",
       "r1_level                       97230\n",
       "r1_xp                          97230\n",
       "r1_gold                        97230\n",
       "r1_lh                          97230\n",
       "r1_kills                       97230\n",
       "r1_deaths                      97230\n",
       "r1_items                       97230\n",
       "r2_hero                        97230\n",
       "r2_level                       97230\n",
       "r2_xp                          97230\n",
       "r2_gold                        97230\n",
       "r2_lh                          97230\n",
       "r2_kills                       97230\n",
       "r2_deaths                      97230\n",
       "r2_items                       97230\n",
       "r3_hero                        97230\n",
       "r3_level                       97230\n",
       "r3_xp                          97230\n",
       "r3_gold                        97230\n",
       "r3_lh                          97230\n",
       "r3_kills                       97230\n",
       "r3_deaths                      97230\n",
       "r3_items                       97230\n",
       "r4_hero                        97230\n",
       "r4_level                       97230\n",
       "r4_xp                          97230\n",
       "r4_gold                        97230\n",
       "r4_lh                          97230\n",
       "                               ...  \n",
       "d4_deaths                      97230\n",
       "d4_items                       97230\n",
       "d5_hero                        97230\n",
       "d5_level                       97230\n",
       "d5_xp                          97230\n",
       "d5_gold                        97230\n",
       "d5_lh                          97230\n",
       "d5_kills                       97230\n",
       "d5_deaths                      97230\n",
       "d5_items                       97230\n",
       "first_blood_time               77677\n",
       "first_blood_team               77677\n",
       "first_blood_player1            77677\n",
       "first_blood_player2            53243\n",
       "radiant_bottle_time            81539\n",
       "radiant_courier_time           96538\n",
       "radiant_flying_courier_time    69751\n",
       "radiant_tpscroll_count         97230\n",
       "radiant_boots_count            97230\n",
       "radiant_ward_observer_count    97230\n",
       "radiant_ward_sentry_count      97230\n",
       "radiant_first_ward_time        95394\n",
       "dire_bottle_time               81087\n",
       "dire_courier_time              96554\n",
       "dire_flying_courier_time       71132\n",
       "dire_tpscroll_count            97230\n",
       "dire_boots_count               97230\n",
       "dire_ward_observer_count       97230\n",
       "dire_ward_sentry_count         97230\n",
       "dire_first_ward_time           95404\n",
       "Length: 101, dtype: int64"
      ]
     },
     "execution_count": 3,
     "metadata": {},
     "output_type": "execute_result"
    }
   ],
   "source": [
    "data.count() # пункт 2"
   ]
  },
  {
   "cell_type": "code",
   "execution_count": 3,
   "metadata": {
    "collapsed": false
   },
   "outputs": [
    {
     "name": "stdout",
     "output_type": "stream",
     "text": [
      "Any null left? False\n"
     ]
    }
   ],
   "source": [
    "huge_number = 350 # время точно выходящее за 5 минут\n",
    "has_nan = ['first_blood_time','radiant_bottle_time','radiant_courier_time','radiant_flying_courier_time','radiant_first_ward_time','dire_bottle_time',\n",
    "         'dire_courier_time','dire_flying_courier_time','dire_first_ward_time']\n",
    "values = dict(zip(has_nan,[huge_number]*len(has_nan)))\n",
    "values['first_blood_team'] = 2 # не занятый номер комадны, все равно потом one-hot\n",
    "values['first_blood_player1'] = 11.0\n",
    "values['first_blood_player2'] = 12.0 # не занятый номер игрока. Все равно потом будет one-hot\n",
    "data.fillna(value = values,inplace=True) # заполняем dataframe. пункт 3\n",
    "print 'Any null left? {}'.format(data.isnull().values.any()) # на всякий случай проверяем что все заполнилось правильно"
   ]
  },
  {
   "cell_type": "code",
   "execution_count": 57,
   "metadata": {
    "collapsed": false
   },
   "outputs": [
    {
     "name": "stderr",
     "output_type": "stream",
     "text": [
      "[Parallel(n_jobs=1)]: Done   5 out of   5 | elapsed:   24.0s finished\n"
     ]
    },
    {
     "name": "stdout",
     "output_type": "stream",
     "text": [
      "0.665998440787\n"
     ]
    },
    {
     "name": "stderr",
     "output_type": "stream",
     "text": [
      "[Parallel(n_jobs=1)]: Done   5 out of   5 | elapsed:   43.8s finished\n"
     ]
    },
    {
     "name": "stdout",
     "output_type": "stream",
     "text": [
      "0.682647794091\n"
     ]
    },
    {
     "name": "stderr",
     "output_type": "stream",
     "text": [
      "[Parallel(n_jobs=1)]: Done   5 out of   5 | elapsed:  1.1min finished\n"
     ]
    },
    {
     "name": "stdout",
     "output_type": "stream",
     "text": [
      "0.690086367839\n"
     ]
    },
    {
     "name": "stderr",
     "output_type": "stream",
     "text": [
      "[Parallel(n_jobs=1)]: Done   5 out of   5 | elapsed:  1.4min finished\n"
     ]
    },
    {
     "name": "stdout",
     "output_type": "stream",
     "text": [
      "0.694829105323\n"
     ]
    },
    {
     "name": "stderr",
     "output_type": "stream",
     "text": [
      "[Parallel(n_jobs=1)]: Done   5 out of   5 | elapsed:  1.7min finished\n"
     ]
    },
    {
     "name": "stdout",
     "output_type": "stream",
     "text": [
      "0.698065017684\n"
     ]
    },
    {
     "name": "stderr",
     "output_type": "stream",
     "text": [
      "[Parallel(n_jobs=1)]: Done   5 out of   5 | elapsed:  2.1min finished\n"
     ]
    },
    {
     "name": "stdout",
     "output_type": "stream",
     "text": [
      "0.699579053528\n"
     ]
    },
    {
     "name": "stderr",
     "output_type": "stream",
     "text": [
      "[Parallel(n_jobs=1)]: Done   5 out of   5 | elapsed:  2.4min finished\n"
     ]
    },
    {
     "name": "stdout",
     "output_type": "stream",
     "text": [
      "0.70226476127\n"
     ]
    },
    {
     "name": "stderr",
     "output_type": "stream",
     "text": [
      "[Parallel(n_jobs=1)]: Done   5 out of   5 | elapsed:  2.8min finished\n"
     ]
    },
    {
     "name": "stdout",
     "output_type": "stream",
     "text": [
      "0.704368280564\n"
     ]
    },
    {
     "name": "stderr",
     "output_type": "stream",
     "text": [
      "[Parallel(n_jobs=1)]: Done   5 out of   5 | elapsed:  3.1min finished\n"
     ]
    },
    {
     "name": "stdout",
     "output_type": "stream",
     "text": [
      "0.70507183694\n"
     ]
    },
    {
     "name": "stderr",
     "output_type": "stream",
     "text": [
      "[Parallel(n_jobs=1)]: Done   5 out of   5 | elapsed:  3.4min finished\n"
     ]
    },
    {
     "name": "stdout",
     "output_type": "stream",
     "text": [
      "0.706717978694\n"
     ]
    },
    {
     "name": "stderr",
     "output_type": "stream",
     "text": [
      "[Parallel(n_jobs=1)]: Done   5 out of   5 | elapsed:  3.8min finished\n"
     ]
    },
    {
     "name": "stdout",
     "output_type": "stream",
     "text": [
      "0.707732033521\n"
     ]
    },
    {
     "name": "stderr",
     "output_type": "stream",
     "text": [
      "[Parallel(n_jobs=1)]: Done   5 out of   5 | elapsed:  4.3min finished\n"
     ]
    },
    {
     "name": "stdout",
     "output_type": "stream",
     "text": [
      "0.70808758192\n"
     ]
    },
    {
     "name": "stderr",
     "output_type": "stream",
     "text": [
      "[Parallel(n_jobs=1)]: Done   5 out of   5 | elapsed:  4.7min finished\n"
     ]
    },
    {
     "name": "stdout",
     "output_type": "stream",
     "text": [
      "0.709313841184\n",
      "0.71020092675\n"
     ]
    },
    {
     "name": "stderr",
     "output_type": "stream",
     "text": [
      "[Parallel(n_jobs=1)]: Done   5 out of   5 | elapsed:  5.1min finished\n"
     ]
    }
   ],
   "source": [
    "res = []\n",
    "cv = KFold(n_splits=5,shuffle=True)\n",
    "for i in range(10,150,10):\n",
    "    model = GradientBoostingClassifier(n_estimators=i)\n",
    "    temp = np.mean(cross_val_score(model,data,y,cv=cv,verbose=1,scoring='roc_auc'))\n",
    "    res.append(temp)\n",
    "    print temp"
   ]
  },
  {
   "cell_type": "code",
   "execution_count": 62,
   "metadata": {
    "collapsed": false
   },
   "outputs": [
    {
     "data": {
      "text/plain": [
       "[<matplotlib.lines.Line2D at 0x10bb7f98>]"
      ]
     },
     "execution_count": 62,
     "metadata": {},
     "output_type": "execute_result"
    },
    {
     "data": {
      "image/png": "[encoded data removed]",
      "text/plain": [
       "<matplotlib.figure.Figure at 0x10a944e0>"
      ]
     },
     "metadata": {},
     "output_type": "display_data"
    }
   ],
   "source": [
    "plt.plot(range(10,150,10),res)"
   ]
  },
  {
   "cell_type": "markdown",
   "metadata": {},
   "source": [
    "## Отчет 1\n",
    "В отчете по данному этапу вы должны ответить на следующие вопросы:\n",
    "1. Какие признаки имеют пропуски среди своих значений? Что могут означать пропуски в этих признаках (ответьте на этот вопрос для двух любых признаков)? __ _Пропуски имеют признаки связанные со временем. Они принимают значение nan когда за 5 минут игры событие не успело произойти. Например покупка курьера и летающего курьера не всегда успевала произойти за 5 минут_ __\n",
    "2. Как называется столбец, содержащий целевую переменную? __ _radiant-win_ __\n",
    "3. Как долго проводилась кросс-валидация для градиентного бустинга с 30 деревьями? Инструкцию по измерению времени можно найти ниже по тексту. Какое качество при этом получилось? Напомним, что в данном задании мы используем метрику качества AUC-ROC. __ _ Для 30 деревьев время кросс-валидации примерно 1 минута. Полученное при это качество 0.69 _ __\n",
    "4. Имеет ли смысл использовать больше 30 деревьев в градиентном бустинге? Что бы вы предложили делать, чтобы ускорить его обучение при увеличении количества деревьев? __ Есть смысл увеличивать количество деревьев т.к. качество на кросс-валидации растет с увеличение количества деревьев. Можно сократить время обучения если использовать 3 фолда вместо 5. Можно использовать только часть обучающей выборки. Можно считать сразу на нескольких ядрах (хотя деревья строятся последовательно, небольшой прирост в скорости все равно будет.  __"
   ]
  },
  {
   "cell_type": "markdown",
   "metadata": {},
   "source": [
    "## Подход 2"
   ]
  },
  {
   "cell_type": "code",
   "execution_count": 8,
   "metadata": {
    "collapsed": true
   },
   "outputs": [],
   "source": [
    "from sklearn.preprocessing import StandardScaler\n",
    "from sklearn.linear_model import LogisticRegression as logreg"
   ]
  },
  {
   "cell_type": "code",
   "execution_count": 18,
   "metadata": {
    "collapsed": false
   },
   "outputs": [
    {
     "name": "stdout",
     "output_type": "stream",
     "text": [
      "0.716727181718\n",
      "0.716584340016\n",
      "0.716700386533\n",
      "0.71687806103\n",
      "0.716674964937\n",
      "0.716736804277\n",
      "0.716906229915\n",
      "0.716417073543\n",
      "[0.71672718171752603, 0.71658434001587756, 0.71670038653316726, 0.7168780610304839, 0.71667496493681904, 0.71673680427677167, 0.71690622991484343, 0.71641707354269379]\n"
     ]
    }
   ],
   "source": [
    "data_scaled = StandardScaler().fit_transform(data)\n",
    "cv = KFold(n_splits=5,shuffle=True)\n",
    "res2 = []\n",
    "for c in [0.1,0.5,1,2,5,7,10,20]:\n",
    "    model = logreg(C=c,penalty='l2',n_jobs=-1)\n",
    "    temp2 = np.mean(cross_val_score(model,data_scaled,y,cv=cv,n_jobs=-1,scoring='roc_auc'))\n",
    "    print temp2\n",
    "    res2.append(temp2)\n",
    "print res2"
   ]
  },
  {
   "cell_type": "code",
   "execution_count": 21,
   "metadata": {
    "collapsed": false
   },
   "outputs": [
    {
     "name": "stdout",
     "output_type": "stream",
     "text": [
      "0.716906229915\n"
     ]
    },
    {
     "data": {
      "text/plain": [
       "[<matplotlib.lines.Line2D at 0x13feedd8>]"
      ]
     },
     "execution_count": 21,
     "metadata": {},
     "output_type": "execute_result"
    },
    {
     "data": {
      "image/png": "[encoded data removed]",
      "text/plain": [
       "<matplotlib.figure.Figure at 0x13fc3828>"
      ]
     },
     "metadata": {},
     "output_type": "display_data"
    }
   ],
   "source": [
    "print np.max(res2)\n",
    "plt.plot([0.1,0.5,1,2,5,7,10,20],res2)"
   ]
  },
  {
   "cell_type": "code",
   "execution_count": 22,
   "metadata": {
    "collapsed": false
   },
   "outputs": [
    {
     "name": "stdout",
     "output_type": "stream",
     "text": [
      "0.716665341427\n",
      "0.716661536293\n",
      "0.716661229133\n",
      "0.716660493896\n",
      "0.716660290423\n",
      "0.716660347617\n",
      "0.716660269215\n",
      "0.716660277687\n",
      "0.716665341427\n"
     ]
    },
    {
     "data": {
      "text/plain": [
       "[<matplotlib.lines.Line2D at 0x152e5358>]"
      ]
     },
     "execution_count": 22,
     "metadata": {},
     "output_type": "execute_result"
    },
    {
     "data": {
      "image/png": "[encoded data removed]",
      "text/plain": [
       "<matplotlib.figure.Figure at 0x5776898>"
      ]
     },
     "metadata": {},
     "output_type": "display_data"
    }
   ],
   "source": [
    "cat_values =  ['lobby_type']+['r{}_hero'.format(i) for i in range(1,6)]+['d{}_hero'.format(i) for i in range(1,6)]\n",
    "data_scaled = StandardScaler().fit_transform(data.drop(cat_values,axis = 1))\n",
    "cv = KFold(n_splits=5,shuffle=True,random_state = 241)\n",
    "res3 = []\n",
    "for c in [0.1,0.5,1,2,5,7,10,20]:\n",
    "    model = logreg(C=c,penalty='l2',n_jobs=8)\n",
    "    temp2 = np.mean(cross_val_score(model,data_scaled,y,cv=cv,n_jobs=8,scoring='roc_auc'))\n",
    "    print temp2\n",
    "    res3.append(temp2)\n",
    "print np.max(res3)\n",
    "plt.plot([0.1,0.5,1,2,5,7,10,20],res3)"
   ]
  },
  {
   "cell_type": "code",
   "execution_count": 46,
   "metadata": {
    "collapsed": false
   },
   "outputs": [
    {
     "data": {
      "text/plain": [
       "112"
      ]
     },
     "execution_count": 46,
     "metadata": {},
     "output_type": "execute_result"
    }
   ],
   "source": [
    "np.max(data.r1_hero.unique())"
   ]
  },
  {
   "cell_type": "code",
   "execution_count": 18,
   "metadata": {
    "collapsed": true
   },
   "outputs": [],
   "source": [
    "N = 112 # количество уникальных персоажей\n",
    "X_pick = np.zeros((data.shape[0], N))\n",
    "cat_values =  ['lobby_type']+['r{}_hero'.format(i) for i in range(1,6)]+['d{}_hero'.format(i) for i in range(1,6)]\n",
    "data_scaled = StandardScaler().fit_transform(data.drop(cat_values,axis = 1))\n",
    "for i, match_id in enumerate(data.index):\n",
    "    for p in xrange(5):\n",
    "        X_pick[i, data.ix[match_id, 'r%d_hero' % (p+1)]-1] = 1\n",
    "        X_pick[i, data.ix[match_id, 'd%d_hero' % (p+1)]-1] = -1\n",
    "X = np.hstack([data_scaled,X_pick])"
   ]
  },
  {
   "cell_type": "code",
   "execution_count": 57,
   "metadata": {
    "collapsed": false
   },
   "outputs": [
    {
     "name": "stdout",
     "output_type": "stream",
     "text": [
      "0.752359399898\n",
      "0.752342195765\n",
      "0.752339062739\n",
      "0.752337516164\n",
      "0.752335908278\n",
      "0.752335372475\n",
      "0.752335048417\n",
      "0.752334925364\n",
      "0.752359399898\n"
     ]
    },
    {
     "data": {
      "text/plain": [
       "[<matplotlib.lines.Line2D at 0xc856e80>]"
      ]
     },
     "execution_count": 57,
     "metadata": {},
     "output_type": "execute_result"
    },
    {
     "data": {
      "image/png": "[encoded data removed]",
      "text/plain": [
       "<matplotlib.figure.Figure at 0x1b23e3c8>"
      ]
     },
     "metadata": {},
     "output_type": "display_data"
    }
   ],
   "source": [
    "res4 = []\n",
    "for c in [0.1,0.5,1,2,5,7,10,20]:\n",
    "    model = logreg(C=c,penalty='l2',n_jobs=8)\n",
    "    temp2 = np.mean(cross_val_score(model,X,y,cv=cv,n_jobs=8,scoring='roc_auc'))\n",
    "    print temp2\n",
    "    res4.append(temp2)\n",
    "print np.max(res4)\n",
    "plt.plot([0.1,0.5,1,2,5,7,10,20],res4)"
   ]
  },
  {
   "cell_type": "code",
   "execution_count": 11,
   "metadata": {
    "collapsed": false
   },
   "outputs": [
    {
     "name": "stderr",
     "output_type": "stream",
     "text": [
      "[Parallel(n_jobs=-1)]: Done   2 out of   5 | elapsed:  5.9min remaining:  8.9min\n"
     ]
    },
    {
     "name": "stdout",
     "output_type": "stream",
     "text": [
      "0.722426356993\n"
     ]
    },
    {
     "name": "stderr",
     "output_type": "stream",
     "text": [
      "[Parallel(n_jobs=-1)]: Done   5 out of   5 | elapsed:  6.0min remaining:    0.0s\n",
      "[Parallel(n_jobs=-1)]: Done   5 out of   5 | elapsed:  6.0min finished\n"
     ]
    }
   ],
   "source": [
    "model_2 = GradientBoostingClassifier(n_estimators=150)\n",
    "cv = KFold(n_splits=5,shuffle=True,random_state = 241)\n",
    "print np.mean(cross_val_score(model_2,X,y,cv=cv,scoring = 'roc_auc',verbose=1,n_jobs=-1))"
   ]
  },
  {
   "cell_type": "code",
   "execution_count": 24,
   "metadata": {
    "collapsed": false
   },
   "outputs": [
    {
     "name": "stdout",
     "output_type": "stream",
     "text": [
      "Logistic Regression trained\n"
     ]
    }
   ],
   "source": [
    "model_1 = logreg(C=0.1,penalty='l2',n_jobs=8).fit(X,y)\n",
    "print 'Logistic Regression trained'\n",
    "model_2 = GradientBoostingClassifier(n_estimators=250,n_jobs = -1).fit(X,y)"
   ]
  },
  {
   "cell_type": "code",
   "execution_count": 21,
   "metadata": {
    "collapsed": false
   },
   "outputs": [
    {
     "name": "stdout",
     "output_type": "stream",
     "text": [
      "Any null left? False\n"
     ]
    },
    {
     "name": "stderr",
     "output_type": "stream",
     "text": [
      "C:\\ProgramData\\Anaconda2\\lib\\site-packages\\ipykernel_launcher.py:18: DeprecationWarning: \n",
      ".ix is deprecated. Please use\n",
      ".loc for label based indexing or\n",
      ".iloc for positional indexing\n",
      "\n",
      "See the documentation here:\n",
      "http://pandas.pydata.org/pandas-docs/stable/indexing.html#deprecate_ix\n"
     ]
    },
    {
     "name": "stdout",
     "output_type": "stream",
     "text": [
      "(17177L, 202L)\n"
     ]
    }
   ],
   "source": [
    "# обрабатываем тестовые значения\n",
    "data_test = pd.read_csv('features_test.csv',index_col='match_id')\n",
    "huge_number = 350 # время точно выходящее за 5 минут\n",
    "has_nan = ['first_blood_time','radiant_bottle_time','radiant_courier_time','radiant_flying_courier_time','radiant_first_ward_time','dire_bottle_time',\n",
    "         'dire_courier_time','dire_flying_courier_time','dire_first_ward_time']\n",
    "values = dict(zip(has_nan,[huge_number]*len(has_nan)))\n",
    "values['first_blood_team'] = 2 # не занятый номер комадны, все равно потом one-hot\n",
    "values['first_blood_player1'] = 11.0\n",
    "values['first_blood_player2'] = 12.0 # не занятый номер игрока. Все равно потом будет one-hot\n",
    "data_test.fillna(value = values,inplace=True) # заполняем dataframe. пункт 3\n",
    "print 'Any null left? {}'.format(data_test.isnull().values.any()) # на всякий случай проверяем что все заполнилось правильно\n",
    "N = 112 # количество уникальных персоажей\n",
    "X_pick_test = np.zeros((data_test.shape[0], N))\n",
    "cat_values =  ['lobby_type','start_time']+['r{}_hero'.format(i) for i in range(1,6)]+['d{}_hero'.format(i) for i in range(1,6)]\n",
    "data_scaled_test = StandardScaler().fit_transform(data_test.drop(cat_values,axis = 1))\n",
    "for i, match_id in enumerate(data_test.index):\n",
    "    for p in xrange(5):\n",
    "        X_pick_test[i, data_test.ix[match_id, 'r%d_hero' % (p+1)]-1] = 1\n",
    "        X_pick_test[i, data_test.ix[match_id, 'd%d_hero' % (p+1)]-1] = -1\n",
    "X_test = np.hstack([data_scaled_test,X_pick_test])\n",
    "print X_test.shape"
   ]
  },
  {
   "cell_type": "code",
   "execution_count": 47,
   "metadata": {
    "collapsed": true
   },
   "outputs": [],
   "source": [
    "match_id = pd.read_csv('features_test.csv')['match_id']\n",
    "ans1 = pd.DataFrame(zip(match_id,model_1.predict_proba(X_test)[:,1]),columns=['match_id','radiant_win'])\n",
    "ans2 = pd.DataFrame(zip(match_id,model_2.predict_proba(X_test)[:,1]),columns=['match_id','radiant_win'])"
   ]
  },
  {
   "cell_type": "code",
   "execution_count": 52,
   "metadata": {
    "collapsed": false
   },
   "outputs": [
    {
     "name": "stdout",
     "output_type": "stream",
     "text": [
      "0.00765536863112\n",
      "0.996676011065\n"
     ]
    }
   ],
   "source": [
    "print ans1.radiant_win.min()\n",
    "print ans1.radiant_win.max()"
   ]
  },
  {
   "cell_type": "code",
   "execution_count": 48,
   "metadata": {
    "collapsed": true
   },
   "outputs": [],
   "source": [
    "ans1.to_csv('ans1.txt',index = False)\n",
    "ans2.to_csv('ans2.txt',index = False)"
   ]
  },
  {
   "cell_type": "markdown",
   "metadata": {},
   "source": [
    "## Отчет 2\n",
    "В отчете по данному этапу вы должны ответить на следующие вопросы:\n",
    "1. Какое качество получилось у логистической регрессии над всеми исходными признаками? Как оно соотносится с качеством градиентного бустинга? Чем вы можете объяснить эту разницу? Быстрее ли работает логистическая регрессия по сравнению с градиентным бустингом? __ Максимальное качество полученное с помощью логистической регрессии лучше (0.7169 против 0.7102 у гр.бустинга). Одна из возможных причин - недообученный гр. бустинг, который мог бы показать себя лучше при увеличении количетсва деревьев т.к. видно что он еще не вышел на максимальное значение по качеству. Градиентный бустинг работает лишь чуть медленнее чем логистическая регрессия.  __\n",
    "2. Как влияет на качество логистической регрессии удаление категориальных признаков (укажите новое значение метрики качества)? Чем вы можете объяснить это изменение? __ От этого качество падает, но очень незначительно (0.7166 против 0.7169 с ними) __\n",
    "3. Сколько различных идентификаторов героев существует в данной игре? __ Всего 108 уникальных, но максимальный id персонажа 112 __\n",
    "4. Какое получилось качество при добавлении \"мешка слов\" по героям? Улучшилось ли оно по сравнению с предыдущим вариантом? Чем вы можете это объяснить? __ Качество сильно улучшилось и стало равно 0.752 Это объясняется тем, что разные персонажи вносят разный вклад в победу.  Качество гр.бустинга обученного на мешке слов героев тоже возросло, но не так сильно. (Стало 0.722, было 0.710) __\n",
    "5. Какое минимальное и максимальное значение прогноза на тестовой выборке получилось у лучшего из алгоритмов? __ На тестовой выборке минимум получилось 0.008, максимум 0.996 Точность после на кагле составила 0.756 __"
   ]
  }
 ],
 "metadata": {
  "kernelspec": {
   "display_name": "Python 3",
   "language": "python",
   "name": "python3"
  },
  "language_info": {
   "codemirror_mode": {
    "name": "ipython",
    "version": 3
   },
   "file_extension": ".py",
   "mimetype": "text/x-python",
   "name": "python",
   "nbconvert_exporter": "python",
   "pygments_lexer": "ipython3",
   "version": "3.6.0"
  }
 },
 "nbformat": 4,
 "nbformat_minor": 2
}
