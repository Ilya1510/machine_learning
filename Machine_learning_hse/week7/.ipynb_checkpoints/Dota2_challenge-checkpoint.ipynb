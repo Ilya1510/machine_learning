{
 "cells": [
  {
   "cell_type": "markdown",
   "metadata": {},
   "source": [
    "# Dota2 - five minute"
   ]
  },
  {
   "cell_type": "markdown",
   "metadata": {},
   "source": [
    "# Градиентный бустинг \"в лоб\""
   ]
  },
  {
   "cell_type": "markdown",
   "metadata": {},
   "source": [
    "Задание - Считайте таблицу с признаками из файла features.csv с помощью кода, приведенного выше. Удалите признаки, связанные с итогами матча (они помечены в описании данных как отсутствующие в тестовой выборке)."
   ]
  },
  {
   "cell_type": "code",
   "execution_count": 1,
   "metadata": {
    "collapsed": false
   },
   "outputs": [
    {
     "data": {
      "text/html": [
       "<div>\n",
       "<table border=\"1\" class=\"dataframe\">\n",
       "  <thead>\n",
       "    <tr style=\"text-align: right;\">\n",
       "      <th></th>\n",
       "      <th>start_time</th>\n",
       "      <th>lobby_type</th>\n",
       "      <th>r1_hero</th>\n",
       "      <th>r1_level</th>\n",
       "      <th>r1_xp</th>\n",
       "      <th>r1_gold</th>\n",
       "      <th>r1_lh</th>\n",
       "      <th>r1_kills</th>\n",
       "      <th>r1_deaths</th>\n",
       "      <th>r1_items</th>\n",
       "      <th>...</th>\n",
       "      <th>radiant_ward_sentry_count</th>\n",
       "      <th>radiant_first_ward_time</th>\n",
       "      <th>dire_bottle_time</th>\n",
       "      <th>dire_courier_time</th>\n",
       "      <th>dire_flying_courier_time</th>\n",
       "      <th>dire_tpscroll_count</th>\n",
       "      <th>dire_boots_count</th>\n",
       "      <th>dire_ward_observer_count</th>\n",
       "      <th>dire_ward_sentry_count</th>\n",
       "      <th>dire_first_ward_time</th>\n",
       "    </tr>\n",
       "    <tr>\n",
       "      <th>match_id</th>\n",
       "      <th></th>\n",
       "      <th></th>\n",
       "      <th></th>\n",
       "      <th></th>\n",
       "      <th></th>\n",
       "      <th></th>\n",
       "      <th></th>\n",
       "      <th></th>\n",
       "      <th></th>\n",
       "      <th></th>\n",
       "      <th></th>\n",
       "      <th></th>\n",
       "      <th></th>\n",
       "      <th></th>\n",
       "      <th></th>\n",
       "      <th></th>\n",
       "      <th></th>\n",
       "      <th></th>\n",
       "      <th></th>\n",
       "      <th></th>\n",
       "      <th></th>\n",
       "    </tr>\n",
       "  </thead>\n",
       "  <tbody>\n",
       "    <tr>\n",
       "      <th>0</th>\n",
       "      <td>1430198770</td>\n",
       "      <td>7</td>\n",
       "      <td>11</td>\n",
       "      <td>5</td>\n",
       "      <td>2098</td>\n",
       "      <td>1489</td>\n",
       "      <td>20</td>\n",
       "      <td>0</td>\n",
       "      <td>0</td>\n",
       "      <td>7</td>\n",
       "      <td>...</td>\n",
       "      <td>0</td>\n",
       "      <td>35.0</td>\n",
       "      <td>103.0</td>\n",
       "      <td>-84.0</td>\n",
       "      <td>221.0</td>\n",
       "      <td>3</td>\n",
       "      <td>4</td>\n",
       "      <td>2</td>\n",
       "      <td>2</td>\n",
       "      <td>-52.0</td>\n",
       "    </tr>\n",
       "    <tr>\n",
       "      <th>1</th>\n",
       "      <td>1430220345</td>\n",
       "      <td>0</td>\n",
       "      <td>42</td>\n",
       "      <td>4</td>\n",
       "      <td>1188</td>\n",
       "      <td>1033</td>\n",
       "      <td>9</td>\n",
       "      <td>0</td>\n",
       "      <td>1</td>\n",
       "      <td>12</td>\n",
       "      <td>...</td>\n",
       "      <td>0</td>\n",
       "      <td>-20.0</td>\n",
       "      <td>149.0</td>\n",
       "      <td>-84.0</td>\n",
       "      <td>195.0</td>\n",
       "      <td>5</td>\n",
       "      <td>4</td>\n",
       "      <td>3</td>\n",
       "      <td>1</td>\n",
       "      <td>-5.0</td>\n",
       "    </tr>\n",
       "  </tbody>\n",
       "</table>\n",
       "<p>2 rows × 102 columns</p>\n",
       "</div>"
      ],
      "text/plain": [
       "          start_time  lobby_type  r1_hero  r1_level  r1_xp  r1_gold  r1_lh  \\\n",
       "match_id                                                                     \n",
       "0         1430198770           7       11         5   2098     1489     20   \n",
       "1         1430220345           0       42         4   1188     1033      9   \n",
       "\n",
       "          r1_kills  r1_deaths  r1_items          ...           \\\n",
       "match_id                                         ...            \n",
       "0                0          0         7          ...            \n",
       "1                0          1        12          ...            \n",
       "\n",
       "          radiant_ward_sentry_count  radiant_first_ward_time  \\\n",
       "match_id                                                       \n",
       "0                                 0                     35.0   \n",
       "1                                 0                    -20.0   \n",
       "\n",
       "          dire_bottle_time  dire_courier_time  dire_flying_courier_time  \\\n",
       "match_id                                                                  \n",
       "0                    103.0              -84.0                     221.0   \n",
       "1                    149.0              -84.0                     195.0   \n",
       "\n",
       "          dire_tpscroll_count  dire_boots_count  dire_ward_observer_count  \\\n",
       "match_id                                                                    \n",
       "0                           3                 4                         2   \n",
       "1                           5                 4                         3   \n",
       "\n",
       "          dire_ward_sentry_count  dire_first_ward_time  \n",
       "match_id                                                \n",
       "0                              2                 -52.0  \n",
       "1                              1                  -5.0  \n",
       "\n",
       "[2 rows x 102 columns]"
      ]
     },
     "execution_count": 1,
     "metadata": {},
     "output_type": "execute_result"
    }
   ],
   "source": [
    "#Считаем готовые признаки и удалим признаки-итоги матча\n",
    "import pandas as pd\n",
    "features_all = pd.read_csv('./features.csv', index_col='match_id')\n",
    "\n",
    "match_result = ['duration', 'radiant_win', 'tower_status_radiant', \n",
    "                'tower_status_dire', 'barracks_status_radiant', 'barracks_status_dire']\n",
    "features = features_all.drop(match_result, axis=1)\n",
    "\n",
    "features.head(2)"
   ]
  },
  {
   "cell_type": "markdown",
   "metadata": {},
   "source": [
    "Задание - Проверьте выборку на наличие пропусков с помощью функции count(), которая для каждого столбца показывает число заполненных значений. Много ли пропусков в данных? Запишите названия признаков, имеющих пропуски, и попробуйте для любых двух из них дать обоснование, почему их значения могут быть пропущены."
   ]
  },
  {
   "cell_type": "code",
   "execution_count": 15,
   "metadata": {
    "collapsed": false
   },
   "outputs": [
    {
     "name": "stdout",
     "output_type": "stream",
     "text": [
      "all objects: 97230\n"
     ]
    },
    {
     "data": {
      "text/plain": [
       "first_blood_time               77677\n",
       "first_blood_team               77677\n",
       "first_blood_player1            77677\n",
       "first_blood_player2            53243\n",
       "radiant_bottle_time            81539\n",
       "radiant_courier_time           96538\n",
       "radiant_flying_courier_time    69751\n",
       "radiant_first_ward_time        95394\n",
       "dire_bottle_time               81087\n",
       "dire_courier_time              96554\n",
       "dire_flying_courier_time       71132\n",
       "dire_first_ward_time           95404\n",
       "dtype: int64"
      ]
     },
     "execution_count": 15,
     "metadata": {},
     "output_type": "execute_result"
    }
   ],
   "source": [
    "#Признаки с пропусками и с числом заполненных значений\n",
    "print('all objects:', features.shape[0])\n",
    "features_with_gap = features[features.columns[features.count() != features.shape[0]]]\n",
    "features_with_gap_names = [x for x in features_with_gap]\n",
    "features_with_gap.count()"
   ]
  },
  {
   "cell_type": "code",
   "execution_count": 16,
   "metadata": {
    "collapsed": false
   },
   "outputs": [
    {
     "data": {
      "text/plain": [
       "['first_blood_time',\n",
       " 'first_blood_team',\n",
       " 'first_blood_player1',\n",
       " 'first_blood_player2',\n",
       " 'radiant_bottle_time',\n",
       " 'radiant_courier_time',\n",
       " 'radiant_flying_courier_time',\n",
       " 'radiant_first_ward_time',\n",
       " 'dire_bottle_time',\n",
       " 'dire_courier_time',\n",
       " 'dire_flying_courier_time',\n",
       " 'dire_first_ward_time']"
      ]
     },
     "execution_count": 16,
     "metadata": {},
     "output_type": "execute_result"
    }
   ],
   "source": [
    "features_with_gap_names"
   ]
  },
  {
   "cell_type": "markdown",
   "metadata": {},
   "source": [
    "    Объяснение пропусков:\n",
    "1) 'dire_flying_courier_time' - оно может быть не заполнено просто потому, что команда dire не успела за 5 минут улучшить курьера до летающего (а может просто не захотела)\n",
    "\n",
    "2) 'first_blood_player2' - могло быть так что не произошло ни одного убийства за первые 5 минут, поэтому это значение осталось не заполнено, так же как мы видим по данным могло быть и так, что есть first_blood_player1, но first_blood_player2 осталось не заполнено, это говорит о том, что герой умер, но не от другого героя, а от крипов или башни"
   ]
  },
  {
   "cell_type": "markdown",
   "metadata": {},
   "source": [
    "Задание - Замените пропуски на нули с помощью функции fillna(). На самом деле этот способ является предпочтительным для логистической регрессии, поскольку он позволит пропущенному значению не вносить никакого вклада в предсказание. Для деревьев часто лучшим вариантом оказывается замена пропуска на очень большое или очень маленькое значение — в этом случае при построении разбиения вершины можно будет отправить объекты с пропусками в отдельную ветвь дерева. Также есть и другие подходы — например, замена пропуска на среднее значение признака. Мы не требуем этого в задании, но при желании попробуйте разные подходы к обработке пропусков и сравните их между собой."
   ]
  },
  {
   "cell_type": "code",
   "execution_count": 104,
   "metadata": {
    "collapsed": false
   },
   "outputs": [
    {
     "data": {
      "text/plain": [
       "Series([], dtype: int64)"
      ]
     },
     "execution_count": 104,
     "metadata": {},
     "output_type": "execute_result"
    }
   ],
   "source": [
    "features = features.fillna(0)\n",
    "features[features.columns[features.count() != features.shape[0]]].count()\n",
    "#Теперь в данных нет пропусков, но не получили ли мы теперь \"Мусор на входе\"? :)"
   ]
  },
  {
   "cell_type": "markdown",
   "metadata": {},
   "source": [
    "Задание - Какой столбец содержит целевую переменную? Запишите его название.\n",
    "\n",
    "    'radiant_win'\n",
    "\n",
    "Задание - Забудем, что в выборке есть категориальные признаки, и попробуем обучить градиентный бустинг над деревьями на имеющейся матрице \"объекты-признаки\". Зафиксируйте генератор разбиений для кросс-валидации по 5 блокам (KFold), не забудьте перемешать при этом выборку (shuffle=True), поскольку данные в таблице отсортированы по времени, и без перемешивания можно столкнуться с нежелательными эффектами при оценивании качества. Оцените качество градиентного бустинга (GradientBoostingClassifier) с помощью данной кросс-валидации, попробуйте при этом разное количество деревьев (как минимум протестируйте следующие значения для количества деревьев: 10, 20, 30). Долго ли настраивались классификаторы? Достигнут ли оптимум на испытанных значениях параметра n_estimators, или же качество, скорее всего, продолжит расти при дальнейшем его увеличении?"
   ]
  },
  {
   "cell_type": "code",
   "execution_count": 105,
   "metadata": {
    "collapsed": false
   },
   "outputs": [
    {
     "data": {
      "text/plain": [
       "match_id\n",
       "0    1\n",
       "1    1\n",
       "Name: radiant_win, dtype: int64"
      ]
     },
     "execution_count": 105,
     "metadata": {},
     "output_type": "execute_result"
    }
   ],
   "source": [
    "# Столбец ответов\n",
    "y = features_all['radiant_win']\n",
    "y.head(2)"
   ]
  },
  {
   "cell_type": "code",
   "execution_count": 106,
   "metadata": {
    "collapsed": false
   },
   "outputs": [],
   "source": [
    "from sklearn.ensemble import GradientBoostingClassifier\n",
    "from sklearn.model_selection import KFold\n",
    "from sklearn.model_selection import cross_val_score\n",
    "import numpy as np\n",
    "\n",
    "# Создаём Градиентный бустинг с n_estimators деревьями и выдаём нужный scoring(по 5 блокам, roc_auc)\n",
    "def cross_val_score_gbc(X, y, n_estimators=10):\n",
    "    gen = KFold(n_splits=5, shuffle=True, random_state=241)\n",
    "    clf = GradientBoostingClassifier(n_estimators=n_estimators)\n",
    "    return np.mean(cross_val_score(clf, X, y, n_jobs=-1, cv=gen, scoring='roc_auc'))"
   ]
  },
  {
   "cell_type": "code",
   "execution_count": 107,
   "metadata": {
    "collapsed": false
   },
   "outputs": [],
   "source": [
    "from matplotlib import pyplot as plt\n",
    "import time\n",
    "import datetime\n",
    "\n",
    "#Выдаёт cross_val_score(n_splits=5, scoring='roc_auc') и время за которое оно посчиталось\n",
    "def get_scores_and_times(iterable):\n",
    "    scores = {}\n",
    "    times = {}\n",
    "    for n in iterable:\n",
    "        start_time = datetime.datetime.now() # До\n",
    "        scores[n] = cross_val_score_gbc(features, y, n_estimators=n)\n",
    "        work_time = datetime.datetime.now() - start_time # После\n",
    "        times[n] = work_time\n",
    "    return (scores, times)\n",
    "\n",
    "#Просто рисуем результаты на графике\n",
    "def draw_scores(scores):\n",
    "    plt.title('cross_val_score_roc_auc')\n",
    "    plt.xlabel('n_estimatros')\n",
    "    plt.ylabel('score')\n",
    "    plt.plot(list(scores.keys()), list(scores.values()))\n",
    "    plt.show()\n",
    "# Теперь время обучения    \n",
    "def draw_work_times(times):    \n",
    "    plt.title('work_time')\n",
    "    plt.xlabel('n_estimatros')\n",
    "    plt.ylabel('time')\n",
    "    plt.plot(list(times.keys()), [round(x.total_seconds()) for x in times.values()])\n",
    "    plt.show()"
   ]
  },
  {
   "cell_type": "markdown",
   "metadata": {},
   "source": [
    "Для того, чтобы понять имеет ли смысл устанавливать более, чем 30 деревьев в градиентном бустинге, посмотрим на ошибку на train и на test на каждой итерации (как это было в уроке про градиентный бустинг)"
   ]
  },
  {
   "cell_type": "code",
   "execution_count": 108,
   "metadata": {
    "collapsed": false
   },
   "outputs": [],
   "source": [
    "#Важнейшая клетка первого подхода, отлично подходит для анализа Градиентного бустинга\n",
    "from sklearn.metrics import roc_auc_score\n",
    "from sklearn.model_selection import train_test_split\n",
    "\n",
    "#Функция, которая выдаёт roc_auc_score на каждой итерации тренировки Градиентного бустинга\n",
    "#Один в один из задания по градиентному бусингу :)\n",
    "def analize_gbc(n_estimators = 200, learning_rate=0.2):\n",
    "    gbc = GradientBoostingClassifier(n_estimators=n_estimators, learning_rate=learning_rate, verbose = True)\n",
    "    X_train, X_test, y_train, y_test = train_test_split(features, y, test_size = 0.3, random_state=241)\n",
    "    \n",
    "    gbc.fit(X_train, y_train)\n",
    "    y_pred_train = [1 / (1 + np.exp(-i)) for i in gbc.staged_decision_function(X_train)] #i is np.array\n",
    "    y_pred_test = [1 / (1 + np.exp(-i)) for i in gbc.staged_decision_function(X_test)]\n",
    "    scores_train = {}\n",
    "    scores_test = {}\n",
    "    for i in range(len(y_pred_train)):\n",
    "        scores_train[i] = roc_auc_score(y_train, y_pred_train[i])\n",
    "        scores_test[i] = roc_auc_score(y_test, y_pred_test[i])    \n",
    "\n",
    "    plt.xlabel('n_estimators')\n",
    "    plt.ylabel('roc_auc_score')\n",
    "    plt.plot(list(scores_train.keys()), list(scores_train.values()), 'b', linewidth=2)\n",
    "    plt.plot(list(scores_test.keys()), list(scores_test.values()), 'r', linewidth=2)\n",
    "    plt.legend(['train', 'test'])\n",
    "    plt.show()\n",
    "    return scores_test\n",
    "#return dict[n_estimators] = test_roc_auc_score_with_this_n_estimators"
   ]
  },
  {
   "cell_type": "code",
   "execution_count": 109,
   "metadata": {
    "collapsed": false
   },
   "outputs": [
    {
     "name": "stdout",
     "output_type": "stream",
     "text": [
      "      Iter       Train Loss   Remaining Time \n",
      "         1           1.3726           13.18m\n",
      "         2           1.3626           12.70m\n",
      "         3           1.3539           12.98m\n",
      "         4           1.3454           12.43m\n",
      "         5           1.3373           12.36m\n",
      "         6           1.3302           12.20m\n",
      "         7           1.3239           12.00m\n",
      "         8           1.3177           11.92m\n",
      "         9           1.3124           11.80m\n",
      "        10           1.3079           11.84m\n",
      "        20           1.2728           11.51m\n",
      "        30           1.2524           11.47m\n",
      "        40           1.2389           11.30m\n",
      "        50           1.2287           11.02m\n",
      "        60           1.2205           10.98m\n",
      "        70           1.2137           11.55m\n",
      "        80           1.2075           11.30m\n",
      "        90           1.2019           11.20m\n",
      "       100           1.1970           11.00m\n",
      "       200           1.1590            9.69m\n",
      "       300           1.1319            8.78m\n",
      "       400           1.1076            8.03m\n",
      "       500           1.0863            7.34m\n",
      "       600           1.0640            6.80m\n",
      "       700           1.0436            6.24m\n",
      "       800           1.0252            5.71m\n",
      "       900           1.0065            5.22m\n",
      "      1000           0.9892            4.69m\n",
      "      2000           0.8399            0.00s\n"
     ]
    },
    {
     "data": {
      "image/png": "[encoded data removed]",
      "text/plain": [
       "<matplotlib.figure.Figure at 0x7f16ed2a6588>"
      ]
     },
     "metadata": {},
     "output_type": "display_data"
    }
   ],
   "source": [
    "#Remaining Time - время, которое ещё классификатор будет обучаться\n",
    "#Если хотите исполнить эту клетку, то довольно быстро выполниться analize_gbc(100, 0.2)\n",
    "#analize_gbc(2000, 0.2) придётся ждать 15 минут\n",
    "scores_on_estimators = analize_gbc(2000, 0.2)"
   ]
  },
  {
   "cell_type": "code",
   "execution_count": 110,
   "metadata": {
    "collapsed": false
   },
   "outputs": [
    {
     "data": {
      "text/plain": [
       "[(614, 0.725402802944485),\n",
       " (615, 0.72538964575461518),\n",
       " (618, 0.72533326653722296),\n",
       " (616, 0.72532065521073841),\n",
       " (619, 0.72531246725996112),\n",
       " (617, 0.72531231197123958),\n",
       " (622, 0.72530776154112364),\n",
       " (623, 0.7253076627210282),\n",
       " (621, 0.72528869396839402),\n",
       " (613, 0.72528299063716295)]"
      ]
     },
     "execution_count": 110,
     "metadata": {},
     "output_type": "execute_result"
    }
   ],
   "source": [
    "#Найдём лучшее число деревьев\n",
    "scores_sorted = sorted(scores_on_estimators.items(), key=lambda x: x[1], reverse=True)\n",
    "scores_sorted[:10]"
   ]
  },
  {
   "cell_type": "code",
   "execution_count": 111,
   "metadata": {
    "collapsed": false
   },
   "outputs": [],
   "source": [
    "#Время необходимое для cross_val_score Градиентного бустинга из 30 и (20, 10) деревьев по 5 разбиениям и его качество\n",
    "score_for_small_trees, time_for_small_trees = get_scores_and_times([10, 20, 30])\n",
    "#Лучший результат на тесте, который удалось \"Выжать\"\n",
    "best_score_gbc = scores_sorted[0]"
   ]
  },
  {
   "cell_type": "code",
   "execution_count": 112,
   "metadata": {
    "collapsed": false
   },
   "outputs": [
    {
     "data": {
      "image/png": "[encoded data removed]",
      "text/plain": [
       "<matplotlib.figure.Figure at 0x7f16e816e7b8>"
      ]
     },
     "metadata": {},
     "output_type": "display_data"
    },
    {
     "data": {
      "image/png": "[encoded data removed]",
      "text/plain": [
       "<matplotlib.figure.Figure at 0x7f16e83e4dd8>"
      ]
     },
     "metadata": {},
     "output_type": "display_data"
    }
   ],
   "source": [
    "#Как видно на малом числе дереьвьев очень плохо видно реальную картину обучения Градиентного бустинга\n",
    "draw_scores(score_for_small_trees)\n",
    "draw_work_times(time_for_small_trees)"
   ]
  },
  {
   "cell_type": "markdown",
   "metadata": {},
   "source": [
    "##### По данному графику видно, что лучшее число деревьев порядка 600, а уже после этого количества, качество на тесте начинает ухудшаться"
   ]
  },
  {
   "cell_type": "code",
   "execution_count": 114,
   "metadata": {
    "collapsed": false
   },
   "outputs": [
    {
     "name": "stdout",
     "output_type": "stream",
     "text": [
      "score for k = 30: 0.689496206059 and time: 52.714822\n",
      "best: k is 614 and score is 0.725402802944\n"
     ]
    }
   ],
   "source": [
    "print('score for k = 30:', score_for_small_trees[30], 'and time:', time_for_small_trees[30].total_seconds())\n",
    "print('best: k is', best_score_gbc[0], 'and score is', best_score_gbc[1])"
   ]
  },
  {
   "cell_type": "markdown",
   "metadata": {},
   "source": [
    "    Что указать в отчете\n",
    "    В отчете по данному этапу вы должны ответить на следующие вопросы:\n",
    "    1) Какие признаки имеют пропуски среди своих значений? Что могут означать пропуски в этих признаках (ответьте на этот вопрос для двух любых признаков)?\n",
    "    2) Как называется столбец, содержащий целевую переменную?\n",
    "    3) Как долго проводилась кросс-валидация для градиентного бустинга с 30 деревьями? Инструкцию по измерению времени можно найти ниже по тексту. Какое качество при этом получилось? Напомним, что в данном задании мы используем метрику качества AUC-ROC.\n",
    "    4) Имеет ли смысл использовать больше 30 деревьев в градиентном бустинге? Что бы вы предложили делать, чтобы ускорить его обучение при увеличении количества деревьев?"
   ]
  },
  {
   "cell_type": "markdown",
   "metadata": {},
   "source": [
    "## Отчёт по Градиентному бустингу:"
   ]
  },
  {
   "cell_type": "code",
   "execution_count": 115,
   "metadata": {
    "collapsed": false
   },
   "outputs": [
    {
     "data": {
      "text/plain": [
       "first_blood_time               77677\n",
       "first_blood_team               77677\n",
       "first_blood_player1            77677\n",
       "first_blood_player2            53243\n",
       "radiant_bottle_time            81539\n",
       "radiant_courier_time           96538\n",
       "radiant_flying_courier_time    69751\n",
       "radiant_first_ward_time        95394\n",
       "dire_bottle_time               81087\n",
       "dire_courier_time              96554\n",
       "dire_flying_courier_time       71132\n",
       "dire_first_ward_time           95404\n",
       "dtype: int64"
      ]
     },
     "execution_count": 115,
     "metadata": {},
     "output_type": "execute_result"
    }
   ],
   "source": [
    "# Признаки с пропусками\n",
    "features_with_gap"
   ]
  },
  {
   "cell_type": "markdown",
   "metadata": {},
   "source": [
    "    Что могут значить пропуски?\n",
    "\n",
    "1) 'dire_flying_courier_time' - оно может быть не заполнено просто потому, что команда dire не успела за 5 минут улучшить курьера до летающего (а может просто не захотела)\n",
    "\n",
    "2) 'first_blood_player2' - могло быть так что не произошло ни одного убийства за первые 5 минут, поэтому это значение осталось не заполнено, так же как мы видим по данным могло быть и так, что есть first_blood_player1, но first_blood_player2 осталось не заполнено, это говорит о том, что герой умер, но не от другого героя, а от крипов или башни"
   ]
  },
  {
   "cell_type": "code",
   "execution_count": 116,
   "metadata": {
    "collapsed": false
   },
   "outputs": [
    {
     "data": {
      "text/plain": [
       "match_id\n",
       "0    1\n",
       "1    1\n",
       "2    0\n",
       "3    0\n",
       "Name: radiant_win, dtype: int64"
      ]
     },
     "execution_count": 116,
     "metadata": {},
     "output_type": "execute_result"
    }
   ],
   "source": [
    "# Столбец с целевой переменной 'radiant_win'\n",
    "features_all['radiant_win'].head(4)"
   ]
  },
  {
   "cell_type": "code",
   "execution_count": 118,
   "metadata": {
    "collapsed": false
   },
   "outputs": [
    {
     "name": "stdout",
     "output_type": "stream",
     "text": [
      "score for k is 30: 0.689496206059 and time: 52.714822 seconds\n"
     ]
    }
   ],
   "source": [
    "#Как долго проводилась кросс-валидация для градиентного бустинга с 30 деревьями? \n",
    "#Какое качество при этом получилось? Напомним, что в данном задании мы используем метрику качества AUC-ROC.\n",
    "print('score for k is 30:', score_for_small_trees[30], 'and time:', time_for_small_trees[30].total_seconds(), 'seconds')"
   ]
  },
  {
   "cell_type": "markdown",
   "metadata": {},
   "source": [
    "Уточню, что это время при 30 деревьях и кросс-валидации по 5 блокам, то есть реальное время обчения где-то в 5 раз меньше"
   ]
  },
  {
   "cell_type": "markdown",
   "metadata": {},
   "source": [
    "    Имеет ли смысл использовать больше 30 деревьев в градиентном бустинге? -> Да, имеет, в данных условиях переобучение достигается только при кол-ве деревьев больше 600, то есть наступает-то оно гораздо раньше(когда на тесте качество значительно хуже чем на трейне), но начинает ухудшаться качество на тесте только после 600 деревьев. А до 600 деревьев качество улучшается 0.689 -> 0.725 (то есть значительно) \n",
    "\n",
    "    Что бы вы предложили делать, чтобы ускорить его обучение при увеличении количества деревьев? -> 1) Нужно конечно, сделать Стохастический градиентный бустинг (если это не само собой разумеется в sklearn) 2) Деревья, конечно, уже предполагаются простыми, но можно их сделать ещё проще(чтобы они ещё быстрее обучались), ограничив их высоту max_depth, или min_samples_split или ещё что-нибудь."
   ]
  },
  {
   "cell_type": "markdown",
   "metadata": {},
   "source": [
    "# Подход 2: логистическая регрессия\n",
    "### Считаем, что все данные числовые"
   ]
  },
  {
   "cell_type": "markdown",
   "metadata": {},
   "source": [
    "Задание - Оцените качество логистической регрессии (sklearn.linear_model.LogisticRegression с L2-регуляризацией) с помощью кросс-валидации по той же схеме, которая использовалась для градиентного бустинга. Подберите при этом лучший параметр регуляризации (C). Какое наилучшее качество у вас получилось? Как оно соотносится с качеством градиентного бустинга? Чем вы можете объяснить эту разницу? Быстрее ли работает логистическая регрессия по сравнению с градиентным бустингом?"
   ]
  },
  {
   "cell_type": "code",
   "execution_count": 157,
   "metadata": {
    "collapsed": false
   },
   "outputs": [],
   "source": [
    "# Функции для более удобной работы с логистической регрессией\n",
    "from sklearn.linear_model import LogisticRegression\n",
    "from sklearn.grid_search import GridSearchCV\n",
    "import datetime\n",
    "import time\n",
    "\n",
    "# Создаём Логистическую регрессию с нужным C и выдаём нужный scoring(по 5 блокам, roc_auc)\n",
    "def cross_val_score_LR(X, y, C=0.1):\n",
    "    gen = KFold(n_splits=5, shuffle=True, random_state=241)\n",
    "    clf = LogisticRegression(C=C, n_jobs=-1)\n",
    "    return np.mean(cross_val_score(clf, X, y, n_jobs=-1, cv=gen, scoring='roc_auc'))\n",
    "\n",
    "#Возвращает score и время работы логистической регрессии для кажого С из С_array\n",
    "def get_scores_and_times_for_C(X, y, C_array = np.logspace(-100, 100, num=21, base=2)):\n",
    "    scores = {}\n",
    "    times = {}\n",
    "    for C in C_array:\n",
    "        print(C, end=' ')\n",
    "        times[C] = datetime.datetime.now()\n",
    "        scores[C] = cross_val_score_LR(X, y, C=C)\n",
    "        times[C] = datetime.datetime.now() - times[C]\n",
    "    return scores, times\n",
    "\n",
    "def get_best_score(scores):\n",
    "    sorted_scores = sorted(scores.items(), key=lambda x: x[1], reverse=True)\n",
    "    return sorted_scores[0]\n",
    "\n",
    "#because quality learning need more time - Это эмпирическое наблюдение :)\n",
    "def get_max_time(times):\n",
    "    seconds = [x.total_seconds() for x in times.values()]\n",
    "    return list(times.keys())[np.argmax(seconds)], np.max(seconds) #Согласен, неприятно :(\n",
    "\n",
    "#Рисует график качества\n",
    "def draw_scores_C(scores):\n",
    "    plt.xlabel('log2 C')\n",
    "    plt.ylabel('roc_auc_score')\n",
    "    plt.plot(list([np.log2(x) for x in scores.keys()]), list(scores.values()))\n",
    "    plt.show()\n",
    "\n",
    "#Рисует график времени\n",
    "def draw_times_C(times):\n",
    "    plt.xlabel('log2 C')\n",
    "    plt.ylabel('seconds')\n",
    "    plt.plot(list([np.log2(x) for x in times.keys()]), [x.total_seconds() for x in times.values()])\n",
    "    plt.show()"
   ]
  },
  {
   "cell_type": "code",
   "execution_count": 120,
   "metadata": {
    "collapsed": true
   },
   "outputs": [],
   "source": [
    "#Нормализуем признаки - так как имеем дело с линейными методами\n",
    "from sklearn.preprocessing import StandardScaler\n",
    "scaler = StandardScaler()\n",
    "features_scale = scaler.fit_transform(features)"
   ]
  },
  {
   "cell_type": "code",
   "execution_count": 121,
   "metadata": {
    "collapsed": false
   },
   "outputs": [
    {
     "name": "stdout",
     "output_type": "stream",
     "text": [
      "7.88860905221e-31 8.07793566946e-28 8.27180612553e-25 8.47032947254e-22 8.67361737988e-19 8.881784197e-16 9.09494701773e-13 9.31322574615e-10 9.53674316406e-07 0.0009765625 1.0 1024.0 1048576.0 1073741824.0 1.09951162778e+12 1.12589990684e+15 1.15292150461e+18 1.18059162072e+21 1.20892581961e+24 1.23794003929e+27 1.26765060023e+30 "
     ]
    }
   ],
   "source": [
    "#Обучим на исходных данных, мы их только нормализовали\n",
    "scores_stup, times_stup = get_scores_and_times_for_C(features_scale, y)"
   ]
  },
  {
   "cell_type": "code",
   "execution_count": 122,
   "metadata": {
    "collapsed": false
   },
   "outputs": [
    {
     "name": "stdout",
     "output_type": "stream",
     "text": [
      "(1.0, 0.716306583645544) (1048576.0, 8.7621800000000007)\n"
     ]
    },
    {
     "data": {
      "image/png": "[encoded data removed]",
      "text/plain": [
       "<matplotlib.figure.Figure at 0x7f16e82b4898>"
      ]
     },
     "metadata": {},
     "output_type": "display_data"
    },
    {
     "data": {
      "image/png": "[encoded data removed]",
      "text/plain": [
       "<matplotlib.figure.Figure at 0x7f1738b5fbe0>"
      ]
     },
     "metadata": {},
     "output_type": "display_data"
    }
   ],
   "source": [
    "#Отобразим результаты\n",
    "print(get_best_score(scores_stup), get_max_time(times_stup))\n",
    "draw_scores_C(scores_stup)\n",
    "draw_times_C(times_stup)"
   ]
  },
  {
   "cell_type": "markdown",
   "metadata": {},
   "source": [
    "Таким образом лучшее качество достигается при С = 1, и составляет 0.716. Очень достойное качество, значительно лучше Градиентного бустинга на 30 деревьях - 0.689, и лишь немногим хуже лучшего качества на грдиентном бустинге - 0.725. И значительно быстрее обучается - всего 7 секунд, чего не скажешь о Градиентном бустинге, в тех же условиях 30 деревьев обучались минуту (а при 600 вообще 20 минут). Действительно, Граиентные методы, лежащие в основе Логистической регрессии очень быстрые."
   ]
  },
  {
   "cell_type": "code",
   "execution_count": 123,
   "metadata": {
    "collapsed": false
   },
   "outputs": [
    {
     "data": {
      "text/plain": [
       "0.71646659290748538"
      ]
     },
     "execution_count": 123,
     "metadata": {},
     "output_type": "execute_result"
    }
   ],
   "source": [
    "#Теперь явно натренируем логистическую регрессию, чтобы узнать коэффициенты вектора w: a(x) = sign(<w, x> - w0)\n",
    "clf2 = LogisticRegression(C=1, penalty='l2', verbose=True)\n",
    "np.mean(cross_val_score(clf2, features_scale, y, n_jobs=-1, cv=KFold(shuffle=True), scoring='roc_auc'))"
   ]
  },
  {
   "cell_type": "code",
   "execution_count": 124,
   "metadata": {
    "collapsed": false
   },
   "outputs": [
    {
     "name": "stdout",
     "output_type": "stream",
     "text": [
      "[LibLinear]"
     ]
    },
    {
     "data": {
      "text/plain": [
       "LogisticRegression(C=1, class_weight=None, dual=False, fit_intercept=True,\n",
       "          intercept_scaling=1, max_iter=100, multi_class='ovr', n_jobs=1,\n",
       "          penalty='l2', random_state=None, solver='liblinear', tol=0.0001,\n",
       "          verbose=True, warm_start=False)"
      ]
     },
     "execution_count": 124,
     "metadata": {},
     "output_type": "execute_result"
    }
   ],
   "source": [
    "clf2.fit(features_scale, y)"
   ]
  },
  {
   "cell_type": "code",
   "execution_count": 125,
   "metadata": {
    "collapsed": false
   },
   "outputs": [],
   "source": [
    "coef_stup = clf2.coef_[0]\n",
    "coef_stup = [(i, coef_stup[i]) for i in range(coef_stup.shape[0])]\n",
    "coef_stup = sorted(coef_stup, key=lambda x: np.abs(x[1]), reverse=True)"
   ]
  },
  {
   "cell_type": "code",
   "execution_count": 126,
   "metadata": {
    "collapsed": false
   },
   "outputs": [
    {
     "name": "stdout",
     "output_type": "stream",
     "text": [
      "best_features\n"
     ]
    },
    {
     "data": {
      "text/plain": [
       "Index(['r1_gold', 'd1_gold', 'd2_gold', 'r2_gold', 'd4_gold', 'r5_gold',\n",
       "       'r4_gold', 'r3_gold', 'd5_gold', 'd3_gold', 'r3_lh', 'r2_lh', 'r4_lh',\n",
       "       'd3_lh', 'd5_lh', 'r1_lh', 'd2_lh', 'd4_lh', 'd5_xp', 'r5_lh', 'd3_xp',\n",
       "       'd1_lh', 'd2_xp', 'r4_xp', 'r1_xp', 'd1_xp', 'd4_xp', 'r3_xp', 'r5_xp',\n",
       "       'r2_xp', 'start_time', 'radiant_first_ward_time', 'r5_items',\n",
       "       'first_blood_player2', 'dire_tpscroll_count', 'r3_items',\n",
       "       'radiant_tpscroll_count', 'd5_items', 'd4_items',\n",
       "       'dire_first_ward_time'],\n",
       "      dtype='object')"
      ]
     },
     "execution_count": 126,
     "metadata": {},
     "output_type": "execute_result"
    }
   ],
   "source": [
    "#Самые важные признаки по мнению Логистической регрессии\n",
    "print('best_features')\n",
    "best_features_stup = features.columns[[coef_stup[i][0] for i in range(40)]]\n",
    "best_features_stup"
   ]
  },
  {
   "cell_type": "markdown",
   "metadata": {},
   "source": [
    "Выводы: Посмотрев на значимости признаков, становится понятно, почему линейная модель даёт такой хороший результат: Самыми важными признаками (с наибольшими коэффициентами) оказались состояние героев после 5 минут игры, их золото, их опыт, кол-во убитых юнитов. Действительно, кажется что такие признаки должны хорошо подходить под линейную модель. По-моему, Круто!"
   ]
  },
  {
   "cell_type": "markdown",
   "metadata": {},
   "source": [
    "## Просто уберём категориальные признаки"
   ]
  },
  {
   "cell_type": "markdown",
   "metadata": {},
   "source": [
    "Задание - Среди признаков в выборке есть категориальные, которые мы использовали как числовые, что вряд ли является хорошей идеей. Категориальных признаков в этой задаче одиннадцать: lobby_type и r1_hero, r2_hero, ..., r5_hero, d1_hero, d2_hero, ..., d5_hero. Уберите их из выборки, и проведите кросс-валидацию для логистической регрессии на новой выборке с подбором лучшего параметра регуляризации. Изменилось ли качество? Чем вы можете это объяснить?"
   ]
  },
  {
   "cell_type": "code",
   "execution_count": 127,
   "metadata": {
    "collapsed": false
   },
   "outputs": [],
   "source": [
    "# Имена категориальных признаков\n",
    "features_category_names = ['lobby_type'] + \\\n",
    "    ['r' + str(i) + '_hero' for i in range(1, 6)] + ['d' + str(i) + '_hero' for i in range(1, 6)]\n",
    "# Выделим Числовые признаки отдельно\n",
    "features_numbers = features.drop(features_category_names, axis = 1)\n",
    "# Снова нормализуем числовые признаки\n",
    "features_numbers_scale = scaler.fit_transform(features_numbers)"
   ]
  },
  {
   "cell_type": "code",
   "execution_count": 128,
   "metadata": {
    "collapsed": false
   },
   "outputs": [
    {
     "name": "stdout",
     "output_type": "stream",
     "text": [
      "7.88860905221e-31 8.07793566946e-28 8.27180612553e-25 8.47032947254e-22 8.67361737988e-19 8.881784197e-16 9.09494701773e-13 9.31322574615e-10 9.53674316406e-07 0.0009765625 1.0 1024.0 1048576.0 1073741824.0 1.09951162778e+12 1.12589990684e+15 1.15292150461e+18 1.18059162072e+21 1.20892581961e+24 1.23794003929e+27 1.26765060023e+30 "
     ]
    }
   ],
   "source": [
    "# Обучим Логистическую регрессию без категориальных признаков, посмотрим много ли она потеряет в качестве\n",
    "scores_only_numbers, times_only_numbers = get_scores_and_times_for_C(features_numbers_scale, y)"
   ]
  },
  {
   "cell_type": "code",
   "execution_count": 129,
   "metadata": {
    "collapsed": false
   },
   "outputs": [
    {
     "name": "stdout",
     "output_type": "stream",
     "text": [
      "(1.0, 0.71637075265811223) (1073741824.0, 6.9109100000000003)\n"
     ]
    },
    {
     "data": {
      "image/png": "[encoded data removed]",
      "text/plain": [
       "<matplotlib.figure.Figure at 0x7f16e818ba58>"
      ]
     },
     "metadata": {},
     "output_type": "display_data"
    },
    {
     "data": {
      "image/png": "[encoded data removed]",
      "text/plain": [
       "<matplotlib.figure.Figure at 0x7f16e818bf98>"
      ]
     },
     "metadata": {},
     "output_type": "display_data"
    }
   ],
   "source": [
    "# Как видно по графикам и числам - нет, результаты остались прежние\n",
    "print(get_best_score(scores_only_numbers), get_max_time(times_only_numbers))\n",
    "draw_scores_C(scores_only_numbers)\n",
    "draw_times_C(times_only_numbers)"
   ]
  },
  {
   "cell_type": "markdown",
   "metadata": {},
   "source": [
    "Выводы: Качество алгоритма без категориальных параметров, воспринимаемых как числовые не ухудшается. Действительно, это просто шумовые признаки которые никак не коррелируют с целевым признаком и если посмотреть на коэффициенты этих признаков, то мы увидим, что они имеют наименьшую значимость из всех"
   ]
  },
  {
   "cell_type": "code",
   "execution_count": 130,
   "metadata": {
    "collapsed": false
   },
   "outputs": [
    {
     "name": "stdout",
     "output_type": "stream",
     "text": [
      "category features importances (as numbers)\n"
     ]
    },
    {
     "data": {
      "text/plain": [
       "[(56, 'r2_hero'),\n",
       " (69, 'r5_hero'),\n",
       " (81, 'd4_hero'),\n",
       " (86, 'r1_hero'),\n",
       " (88, 'lobby_type'),\n",
       " (91, 'd5_hero'),\n",
       " (93, 'd3_hero'),\n",
       " (95, 'd2_hero'),\n",
       " (96, 'r4_hero'),\n",
       " (98, 'r3_hero'),\n",
       " (100, 'd1_hero')]"
      ]
     },
     "execution_count": 130,
     "metadata": {},
     "output_type": "execute_result"
    }
   ],
   "source": [
    "# (i, name) - Признаки отсортированные по значимости 0 - самый важный, 101 - самый неважный\n",
    "print('category features importances (as numbers)')\n",
    "category_features_places = [(i, features.columns[coef_stup[i][0]]) for i in range(len(coef_stup)) \n",
    " if features.columns[coef_stup[i][0]] in features_category_names]\n",
    "category_features_places"
   ]
  },
  {
   "cell_type": "markdown",
   "metadata": {},
   "source": [
    "## Заменим категориальные признаки на \"мешок слов\""
   ]
  },
  {
   "cell_type": "markdown",
   "metadata": {},
   "source": [
    "Задание - На предыдущем шаге мы исключили из выборки признаки rM_hero и dM_hero, которые показывают, какие именно герои играли за каждую команду. Это важные признаки — герои имеют разные характеристики, и некоторые из них выигрывают чаще, чем другие. Выясните из данных, сколько различных идентификаторов героев существует в данной игре (вам может пригодиться фукнция unique или value_counts)."
   ]
  },
  {
   "cell_type": "code",
   "execution_count": 131,
   "metadata": {
    "collapsed": false
   },
   "outputs": [],
   "source": [
    "# Выделим отдельно категориальные признаки для дальнейшей работы с ними\n",
    "features_category = features[features_category_names]\n",
    "features_category_heroes = features_category.drop('lobby_type', axis = 1)"
   ]
  },
  {
   "cell_type": "code",
   "execution_count": 132,
   "metadata": {
    "collapsed": false
   },
   "outputs": [
    {
     "name": "stdout",
     "output_type": "stream",
     "text": [
      "Героев, которые хоть раз были использованы: 108\n",
      "Максимальный идентификатор: 112\n"
     ]
    },
    {
     "data": {
      "text/plain": [
       "array([  1,   2,   3,   4,   5,   6,   7,   8,   9,  10,  11,  12,  13,\n",
       "        14,  15,  16,  17,  18,  19,  20,  21,  22,  23,  25,  26,  27,\n",
       "        28,  29,  30,  31,  32,  33,  34,  35,  36,  37,  38,  39,  40,\n",
       "        41,  42,  43,  44,  45,  46,  47,  48,  49,  50,  51,  52,  53,\n",
       "        54,  55,  56,  57,  58,  59,  60,  61,  62,  63,  64,  65,  66,\n",
       "        67,  68,  69,  70,  71,  72,  73,  74,  75,  76,  77,  78,  79,\n",
       "        80,  81,  82,  83,  84,  85,  86,  87,  88,  89,  90,  91,  92,\n",
       "        93,  94,  95,  96,  97,  98,  99, 100, 101, 102, 103, 104, 105,\n",
       "       106, 109, 110, 112])"
      ]
     },
     "execution_count": 132,
     "metadata": {},
     "output_type": "execute_result"
    }
   ],
   "source": [
    "# Посчитаем сколько потребуется \"мешков\" для всех героев\n",
    "heroes_count = np.unique(features_category_heroes).shape[0]\n",
    "heroes_identifiers = np.max(np.unique(features_category_heroes))\n",
    "print('Героев, которые хоть раз были использованы:', heroes_count)\n",
    "print('Максимальный идентификатор:', heroes_identifiers)\n",
    "np.unique(features_category_heroes)"
   ]
  },
  {
   "cell_type": "markdown",
   "metadata": {},
   "source": [
    "Задание - Воспользуемся подходом \"мешок слов\" для кодирования информации о героях. Пусть всего в игре имеет N различных героев. Сформируем N признаков, при этом i-й будет равен нулю, если i-й герой не участвовал в матче; единице, если i-й герой играл за команду Radiant; минус единице, если i-й герой играл за команду Dire. Ниже вы можете найти код, который выполняет данной преобразование. Добавьте полученные признаки к числовым, которые вы использовали во втором пункте данного этапа."
   ]
  },
  {
   "cell_type": "code",
   "execution_count": 133,
   "metadata": {
    "collapsed": false
   },
   "outputs": [],
   "source": [
    "#Код для формирования \"мешка слов\" по героям\n",
    "# heroes_identifiers — количество различных героев в выборке\n",
    "X_pick = np.zeros((features.shape[0], heroes_identifiers))\n",
    "\n",
    "for i, match_id in enumerate(features.index):\n",
    "    for p in range(5):\n",
    "        X_pick[i, features.ix[match_id, 'r%d_hero' % (p+1)]-1] = 1\n",
    "        X_pick[i, features.ix[match_id, 'd%d_hero' % (p+1)]-1] = -1\n",
    "# X_pick - признаки взятых героев в виде \"мешка слов\""
   ]
  },
  {
   "cell_type": "code",
   "execution_count": 135,
   "metadata": {
    "collapsed": false
   },
   "outputs": [],
   "source": [
    "# Числовые признаки в виде массива\n",
    "X_numbers = np.array(features_numbers_scale)\n",
    "# Соединим числовые признаки и категориальные обработанные воедино\n",
    "X_all = np.hstack([X_numbers, X_pick])\n",
    "# Снова нормализуем признаки, чтобы потом анализировать результат по clf.coef_ \n",
    "# (на этап обучения это никак не повлияет, да мы знаем, что нормализуем и мешок слов, \n",
    "# Кстати говоря, в теории это может незначительно повлиять на качество, но на пратике нет :)\n",
    "X_all_scale = scaler.fit_transform(X_all)"
   ]
  },
  {
   "cell_type": "markdown",
   "metadata": {},
   "source": [
    "Проведите кросс-валидацию для логистической регрессии на новой выборке с подбором лучшего параметра регуляризации. Какое получилось качество? Улучшилось ли оно? Чем вы можете это объяснить?"
   ]
  },
  {
   "cell_type": "code",
   "execution_count": 158,
   "metadata": {
    "collapsed": false
   },
   "outputs": [
    {
     "name": "stdout",
     "output_type": "stream",
     "text": [
      "7.88860905221e-31 8.07793566946e-28 8.27180612553e-25 8.47032947254e-22 8.67361737988e-19 8.881784197e-16 9.09494701773e-13 9.31322574615e-10 9.53674316406e-07 0.0009765625 1.0 1024.0 1048576.0 1073741824.0 1.09951162778e+12 1.12589990684e+15 1.15292150461e+18 1.18059162072e+21 1.20892581961e+24 1.23794003929e+27 1.26765060023e+30 "
     ]
    }
   ],
   "source": [
    "#Обучение на нормализованных данных с категориальными признаками в виде \"мешка слов\"\n",
    "scores_all, times_all = get_scores_and_times_for_C(X_all_scale, y)"
   ]
  },
  {
   "cell_type": "code",
   "execution_count": 159,
   "metadata": {
    "collapsed": false
   },
   "outputs": [
    {
     "name": "stdout",
     "output_type": "stream",
     "text": [
      "(1.0, 0.75191977154445833) 14.96826\n"
     ]
    },
    {
     "data": {
      "image/png": "[encoded data removed]",
      "text/plain": [
       "<matplotlib.figure.Figure at 0x7f16e835b358>"
      ]
     },
     "metadata": {},
     "output_type": "display_data"
    },
    {
     "data": {
      "image/png": "[encoded data removed]",
      "text/plain": [
       "<matplotlib.figure.Figure at 0x7f16e83e47f0>"
      ]
     },
     "metadata": {},
     "output_type": "display_data"
    }
   ],
   "source": [
    "#Посмотрим на то, что получили\n",
    "print(get_best_score(scores_all), get_max_time(times_all)[1])\n",
    "draw_scores_C(scores_all)\n",
    "draw_times_C(times_all)"
   ]
  },
  {
   "cell_type": "markdown",
   "metadata": {},
   "source": [
    "Выводы: Качество значительно улучшилось, после добавления категориальных признаков (идентификаторов героев) в качестве \"мешка слов\". Попробуем снова найти важности признаков"
   ]
  },
  {
   "cell_type": "code",
   "execution_count": 138,
   "metadata": {
    "collapsed": true
   },
   "outputs": [],
   "source": [
    "# Функция, возвращающая коэффициенты вектора w, в Логистической регрессии est_log_reg после обучения на (X, y)\n",
    "def get_coef_(est_log_reg, X, y):\n",
    "    est_log_reg.fit(X, y)\n",
    "    coef = est_log_reg.coef_[0]\n",
    "    coef = [(i, coef[i]) for i in range(coef.shape[0])]\n",
    "    coef = np.array(sorted(coef, key=lambda x: np.abs(x[1]), reverse=True))\n",
    "    return coef\n",
    "# Возвращает лист [(номер признака, коэффициент)] остортированный по убыванию модуля второго аргумента "
   ]
  },
  {
   "cell_type": "code",
   "execution_count": 139,
   "metadata": {
    "collapsed": false
   },
   "outputs": [
    {
     "name": "stdout",
     "output_type": "stream",
     "text": [
      "[(38.0, 5), (66.0, 17), (24.0, 20), (6.0, 22), (1.0, 23), (56.0, 25), (70.0, 26), (46.0, 28), (20.0, 30)]\n"
     ]
    },
    {
     "data": {
      "text/plain": [
       "array([ 129.        ,   -0.22097972])"
      ]
     },
     "execution_count": 139,
     "metadata": {},
     "output_type": "execute_result"
    }
   ],
   "source": [
    "#Так как обучение быстрое мы не заботимся о том, что учим модель лишний раз - \n",
    "#только чтобы получить значимость признаки\n",
    "coef_end = get_coef_(LogisticRegression(C = 1.0), X_all_scale, y)\n",
    "#Сами коэффициенты не очень важны, сохраним просто порядок важности признаков\n",
    "coef_end_places = coef_end[:, 0]\n",
    "#Отдельно посмотрим на признаки героев\n",
    "coef_end_heroes = [(coef_end_places[i] - X_numbers.shape[1], i) \n",
    "                for i in range(coef_end_places.shape[0]) if coef_end_places[i] > X_numbers.shape[1]]\n",
    "# (Идентификатор героя, значимость данного признака: 0 - самый полезный) \n",
    "print(coef_end_heroes[:9])\n",
    "# Коэффициент самого важного признака героев\n",
    "coef_end[5]"
   ]
  },
  {
   "cell_type": "markdown",
   "metadata": {},
   "source": [
    "Выводы: Качество улучшилось, и понятно почему, добавились полезные признаки) Так, Мы добавили 6-ый по значимости признак, видимо это герой на котором очень часто выигрывают или проигрывают(проигрывают так в следующей клетке знак меньше 0). И кучу ещё значимых признаков :) Без сомнения победа за Radia... ой, то есть за Логистической регрессией!"
   ]
  },
  {
   "cell_type": "markdown",
   "metadata": {
    "collapsed": true
   },
   "source": [
    "# Итоговый классификатор\n",
    "Лучшие результаты показала Логистическая регрессия с признаками героев в виде \"мешка слов\"\n",
    "\n",
    "Постройте предсказания вероятностей победы команды Radiant для тестовой выборки с помощью лучшей из изученных моделей (лучшей с точки зрения AUC-ROC на кросс-валидации). Убедитесь, что предсказанные вероятности адекватные — находятся на отрезке [0, 1], не совпадают между собой (т.е. что модель не получилась константной)."
   ]
  },
  {
   "cell_type": "code",
   "execution_count": 140,
   "metadata": {
    "collapsed": true
   },
   "outputs": [],
   "source": [
    "features_test = pd.read_csv('features_test.csv', index_col='match_id')\n",
    "features_test = features_test.fillna(0)"
   ]
  },
  {
   "cell_type": "code",
   "execution_count": 141,
   "metadata": {
    "collapsed": true
   },
   "outputs": [],
   "source": [
    "# Так как нам нужно изменить тестовые признаки также как и тренировочные, то напишем функцию для этого\n",
    "def split_numbers_and_category(features):\n",
    "    features_category_names = ['lobby_type'] + \\\n",
    "    ['r' + str(i) + '_hero' for i in range(1, 6)] + ['d' + str(i) + '_hero' for i in range(1, 6)]\n",
    "\n",
    "    features_numbers = features.drop(features_category_names, axis = 1)\n",
    "    features_category = features[features_category_names]\n",
    "    features_category_heroes = features_category.drop('lobby_type', axis = 1)\n",
    "    \n",
    "    return features_numbers, features_category_heroes\n",
    "\n",
    "#Преобразует в мешок слов идентификаторы выбранных героев\n",
    "def transform_features_heroes(features_heroes):\n",
    "    heroes_identifiers = np.max(np.unique(features_heroes))\n",
    "    \n",
    "    X_pick = np.zeros((features_heroes.shape[0], heroes_identifiers))\n",
    "\n",
    "    for i, match_id in enumerate(features_heroes.index):\n",
    "        for p in range(5):\n",
    "            X_pick[i, features_heroes.ix[match_id, 'r%d_hero' % (p+1)]-1] = 1\n",
    "            X_pick[i, features_heroes.ix[match_id, 'd%d_hero' % (p+1)]-1] = -1\n",
    "    return X_pick\n",
    "\n",
    "def scale_features(features):\n",
    "    scaler = StandardScaler()\n",
    "    features_scale = scaler.fit_transform(features)\n",
    "    return features_scale"
   ]
  },
  {
   "cell_type": "code",
   "execution_count": 197,
   "metadata": {
    "collapsed": false
   },
   "outputs": [],
   "source": [
    "# Это собственно и есть весь алгоритм преобразования признаков\n",
    "features_test_numbers, features_test_heroes = split_numbers_and_category(features_test)\n",
    "X_test_pick = transform_features_heroes(features_test_heroes)\n",
    "X_test_numbers = np.array(features_test_numbers)\n",
    "X_test_all = np.hstack((X_test_numbers, X_test_pick))\n",
    "X_test_all_scale = scale_features(X_test_all)"
   ]
  },
  {
   "cell_type": "code",
   "execution_count": 198,
   "metadata": {
    "collapsed": false
   },
   "outputs": [
    {
     "data": {
      "text/plain": [
       "LogisticRegression(C=1.0, class_weight=None, dual=False, fit_intercept=True,\n",
       "          intercept_scaling=1, max_iter=100, multi_class='ovr', n_jobs=-1,\n",
       "          penalty='l2', random_state=None, solver='liblinear', tol=0.0001,\n",
       "          verbose=0, warm_start=False)"
      ]
     },
     "execution_count": 198,
     "metadata": {},
     "output_type": "execute_result"
    }
   ],
   "source": [
    "# Обучим на всей обучающей выборке\n",
    "best_clf = LogisticRegression(C=1.0, n_jobs=-1)\n",
    "best_clf.fit(X_all_scale, y)"
   ]
  },
  {
   "cell_type": "code",
   "execution_count": 199,
   "metadata": {
    "collapsed": false
   },
   "outputs": [],
   "source": [
    "pred = best_clf.predict_proba(X_test_all_scale)[:, 1]"
   ]
  },
  {
   "cell_type": "code",
   "execution_count": 200,
   "metadata": {
    "collapsed": false
   },
   "outputs": [
    {
     "name": "stdout",
     "output_type": "stream",
     "text": [
      "min_pred: 0.00868980489471\n",
      "max_pred: 0.996485840045\n"
     ]
    }
   ],
   "source": [
    "print('min_pred:', np.min(pred))\n",
    "print('max_pred:', np.max(pred))"
   ]
  },
  {
   "cell_type": "markdown",
   "metadata": {},
   "source": [
    "## Отчёт по второму подходу:\n",
    "1) Какое качество получилось у логистической регрессии над всеми исходными признаками? Как оно соотносится с качеством градиентного бустинга? Чем вы можете объяснить эту разницу? Быстрее ли работает логистическая регрессия по сравнению с градиентным бустингом?\n",
    "    \n",
    "    \n",
    "    Лучшее качество достигается при С = 1, и составляет 0.716. Очень достойное качество, значительно лучше Градиентного бустинга на 30 деревьях - 0.689, и лишь немногим хуже лучшего качества на грдиентном бустинге - 0.725. И значительно быстрее обучается - всего 7 секунд, чего не скажешь о Градиентном бустинге, в тех же условиях 30 деревьев обучались минуту (а при 600 вообще 20 минут). Действительно, Граиентные методы, лежащие в основе Логистической регрессии очень быстрые. \n",
    "    Посмотрев на значимости признаков, становится понятно, почему линейная модель даёт такой хороший результат: Самыми важными признаками (с наибольшими коэффициентами) оказались состояние героев после 5 минут игры, их золото, их опыт, кол-во убитых юнитов. Действительно, кажется что такие признаки должны хорошо подходить под линейную модель и коррелировать с целевым признаком. По-моему, Круто! -> best_features_stup\n",
    "\n",
    "2) Как влияет на качество логистической регрессии удаление категориальных признаков (укажите новое значение метрики качества)? Чем вы можете объяснить это изменение?\n",
    "\n",
    "    Качество алгоритма без категориальных параметров, воспринимаемых как числовые не ухудшается. Действительно, это просто шумовые признаки которые никак не коррелируют с целевым признаком и если посмотреть на коэффициенты этих признаков, то мы увидим, что они имеют наименьшую значимость из всех. -> category_features_places\n",
    "\n",
    "3) Сколько различных идентификаторов героев существует в данной игре? \n",
    "\n",
    "    Героев, которые хоть раз были использованы: 108 -> heroes_count\n",
    "    Максимальный идентификатор: 112 -> heroes_identifiers\n",
    "\n",
    "4) Какое получилось качество при добавлении \"мешка слов\" по героям? Улучшилось ли оно по сравнению с предыдущим вариантом? Чем вы можете это объяснить?\n",
    "\n",
    "    Качество значительно улучшилось, после добавления категориальных признаков (идентификаторов героев) в качестве \"мешка слов\". -> get_best_score(scores_all)\n",
    "    Качество улучшилось, и понятно почему, добавились полезные признаки) Так, Мы добавили 6-ый по значимости признак, видимо это герой на котором очень часто выигрывают или проигрывают(проигрывают так в следующей клетке знак меньше 0). И кучу ещё значимых признаков :) Без сомнения победа за Radia... ой, то есть за Логистической регрессией! -> coef_end_new - места по важности добавленных \"признаков - мешков\", первые координаты - идентификаторы героев, вторые - место в топе по важности из всех признаков, и числовых и новых\n",
    "\n",
    "5) Какое минимальное и максимальное значение прогноза на тестовой выборке получилось у лучшего из алгоритмов?\n",
    "    \n",
    "    min_pred: 0.00868980489471\n",
    "    max_pred: 0.996485840045\n",
    "    Говорит о том, что построенный алгоритм иногда ставит довольно высокие оценки, не боясь получить большой штраф, оказаышимся не прав. Что не может не радовать, что время обучения итогового алгоритма составило менее 20 секунд!"
   ]
  },
  {
   "cell_type": "code",
   "execution_count": 201,
   "metadata": {
    "collapsed": false
   },
   "outputs": [
    {
     "name": "stdout",
     "output_type": "stream",
     "text": [
      "Index(['r1_gold', 'd1_gold', 'd2_gold', 'r2_gold', 'd4_gold', 'r5_gold',\n",
      "       'r4_gold', 'r3_gold', 'd5_gold', 'd3_gold', 'r3_lh', 'r2_lh', 'r4_lh',\n",
      "       'd3_lh', 'd5_lh', 'r1_lh', 'd2_lh', 'd4_lh', 'd5_xp', 'r5_lh', 'd3_xp',\n",
      "       'd1_lh', 'd2_xp', 'r4_xp', 'r1_xp', 'd1_xp', 'd4_xp', 'r3_xp', 'r5_xp',\n",
      "       'r2_xp', 'start_time', 'radiant_first_ward_time', 'r5_items',\n",
      "       'first_blood_player2', 'dire_tpscroll_count', 'r3_items',\n",
      "       'radiant_tpscroll_count', 'd5_items', 'd4_items',\n",
      "       'dire_first_ward_time'],\n",
      "      dtype='object')\n"
     ]
    }
   ],
   "source": [
    "print(best_features_stup)"
   ]
  },
  {
   "cell_type": "code",
   "execution_count": 202,
   "metadata": {
    "collapsed": false
   },
   "outputs": [
    {
     "name": "stdout",
     "output_type": "stream",
     "text": [
      "[(56, 'r2_hero'), (69, 'r5_hero'), (81, 'd4_hero'), (86, 'r1_hero'), (88, 'lobby_type'), (91, 'd5_hero'), (93, 'd3_hero'), (95, 'd2_hero'), (96, 'r4_hero'), (98, 'r3_hero'), (100, 'd1_hero')]\n"
     ]
    }
   ],
   "source": [
    "print(category_features_places)"
   ]
  },
  {
   "cell_type": "code",
   "execution_count": 203,
   "metadata": {
    "collapsed": false
   },
   "outputs": [
    {
     "data": {
      "text/plain": [
       "108"
      ]
     },
     "execution_count": 203,
     "metadata": {},
     "output_type": "execute_result"
    }
   ],
   "source": [
    "heroes_count"
   ]
  },
  {
   "cell_type": "code",
   "execution_count": 204,
   "metadata": {
    "collapsed": false
   },
   "outputs": [
    {
     "data": {
      "text/plain": [
       "112"
      ]
     },
     "execution_count": 204,
     "metadata": {},
     "output_type": "execute_result"
    }
   ],
   "source": [
    "heroes_identifiers"
   ]
  },
  {
   "cell_type": "code",
   "execution_count": 205,
   "metadata": {
    "collapsed": false
   },
   "outputs": [
    {
     "name": "stdout",
     "output_type": "stream",
     "text": [
      "(1.0, 0.75191977154445833) 14.96826\n"
     ]
    }
   ],
   "source": [
    "print(get_best_score(scores_all), get_max_time(times_all)[1])"
   ]
  },
  {
   "cell_type": "code",
   "execution_count": 206,
   "metadata": {
    "collapsed": false
   },
   "outputs": [
    {
     "name": "stdout",
     "output_type": "stream",
     "text": [
      "[(38.0, 5), (66.0, 17), (24.0, 20), (6.0, 22), (1.0, 23), (56.0, 25), (70.0, 26), (46.0, 28), (20.0, 30)]\n"
     ]
    }
   ],
   "source": [
    "# (Герой, место важности его признака среди всех)\n",
    "print(coef_end_heroes[:9])"
   ]
  },
  {
   "cell_type": "code",
   "execution_count": 207,
   "metadata": {
    "collapsed": false
   },
   "outputs": [
    {
     "name": "stdout",
     "output_type": "stream",
     "text": [
      "min_pred: 0.00868980489471\n",
      "max_pred: 0.996485840045\n"
     ]
    }
   ],
   "source": [
    "print('min_pred:', np.min(pred))\n",
    "print('max_pred:', np.max(pred))"
   ]
  },
  {
   "cell_type": "markdown",
   "metadata": {},
   "source": [
    "## Проверка финальной модели\n",
    "Задание Для всех матчей из тестового набора предскажите вероятность победы Radiant, запишите предсказания в CSV файл с колонками match_id (идентификатор матча) и radiant_win — предсказанная вероятность. Файл с предсказаниями должен выглядеть примерно следующим образом:\n",
    "    \n",
    "    match_id,radiant_win\n",
    "    1,0.51997370502\n",
    "    4,0.51997370502\n",
    "    15,0.51997370502\n",
    "    ...\n",
    "Отправьте решение на Kaggle в соревнование: Dota 2: Win Probability Prediction.\n",
    "Ссылка на соревнование: [Dota 2: Win Probability Prediction](https://kaggle.com/join/coursera_ml_dota2_contest)"
   ]
  },
  {
   "cell_type": "code",
   "execution_count": 208,
   "metadata": {
    "collapsed": false
   },
   "outputs": [],
   "source": [
    "ans_frame = pd.DataFrame({'radiant_win' : pred}, features_test.index)"
   ]
  },
  {
   "cell_type": "code",
   "execution_count": 209,
   "metadata": {
    "collapsed": false
   },
   "outputs": [
    {
     "data": {
      "text/html": [
       "<div>\n",
       "<table border=\"1\" class=\"dataframe\">\n",
       "  <thead>\n",
       "    <tr style=\"text-align: right;\">\n",
       "      <th></th>\n",
       "      <th>radiant_win</th>\n",
       "    </tr>\n",
       "    <tr>\n",
       "      <th>match_id</th>\n",
       "      <th></th>\n",
       "    </tr>\n",
       "  </thead>\n",
       "  <tbody>\n",
       "    <tr>\n",
       "      <th>6</th>\n",
       "      <td>0.824974</td>\n",
       "    </tr>\n",
       "    <tr>\n",
       "      <th>7</th>\n",
       "      <td>0.758528</td>\n",
       "    </tr>\n",
       "  </tbody>\n",
       "</table>\n",
       "</div>"
      ],
      "text/plain": [
       "          radiant_win\n",
       "match_id             \n",
       "6            0.824974\n",
       "7            0.758528"
      ]
     },
     "execution_count": 209,
     "metadata": {},
     "output_type": "execute_result"
    }
   ],
   "source": [
    "ans_frame.head(2)"
   ]
  },
  {
   "cell_type": "code",
   "execution_count": 210,
   "metadata": {
    "collapsed": true
   },
   "outputs": [],
   "source": [
    "ans_frame.to_csv('26_07_2017_first_try_log_reg.csv')"
   ]
  },
  {
   "cell_type": "markdown",
   "metadata": {},
   "source": [
    "549 место - 0.75522 - kaggle - не плохое начало)"
   ]
  },
  {
   "cell_type": "code",
   "execution_count": null,
   "metadata": {
    "collapsed": true
   },
   "outputs": [],
   "source": []
  }
 ],
 "metadata": {
  "kernelspec": {
   "display_name": "Python 3",
   "language": "python",
   "name": "python3"
  },
  "language_info": {
   "codemirror_mode": {
    "name": "ipython",
    "version": 3
   },
   "file_extension": ".py",
   "mimetype": "text/x-python",
   "name": "python",
   "nbconvert_exporter": "python",
   "pygments_lexer": "ipython3",
   "version": "3.6.0"
  }
 },
 "nbformat": 4,
 "nbformat_minor": 2
}
