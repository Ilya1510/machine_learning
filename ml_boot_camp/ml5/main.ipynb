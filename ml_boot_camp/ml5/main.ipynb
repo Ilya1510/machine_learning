{
 "cells": [
  {
   "cell_type": "code",
   "execution_count": 3,
   "metadata": {
    "collapsed": false
   },
   "outputs": [],
   "source": [
    "import pandas as pd\n",
    "data_train = pd.read_csv(\"train.csv\", sep = \";\", index_col = 'id')\n",
    "data_test = pd.read_csv('test.csv', sep = ';', index_col= 'id')"
   ]
  },
  {
   "cell_type": "code",
   "execution_count": 4,
   "metadata": {
    "collapsed": false
   },
   "outputs": [],
   "source": [
    "import numpy as np\n",
    "data_test.smoke = data_test.smoke.apply(lambda x: int(x) if x != 'None' else np.NAN)\n",
    "data_test.alco = data_test.alco.apply(lambda x: int(x) if x != 'None' else np.NAN)\n",
    "data_test.active = data_test.active.apply(lambda x: int(x) if x != 'None' else np.NAN)"
   ]
  },
  {
   "cell_type": "code",
   "execution_count": 5,
   "metadata": {
    "collapsed": false
   },
   "outputs": [],
   "source": [
    "y = np.array(data_train['cardio'])\n",
    "X = np.array(data_train.drop(['cardio', 'smoke', 'alco', 'active'], axis = 1))\n",
    "X_all_attr = np.array(data_train.drop('cardio', axis = 1))\n",
    "X_ans = np.array(data_test.drop(['smoke', 'alco', 'active'], axis = 1))\n",
    "X_ans_all = np.array(data_test)"
   ]
  },
  {
   "cell_type": "markdown",
   "metadata": {
    "collapsed": true
   },
   "source": [
    "## Decision tree Classifier"
   ]
  },
  {
   "cell_type": "markdown",
   "metadata": {},
   "source": [
    "### train"
   ]
  },
  {
   "cell_type": "code",
   "execution_count": 6,
   "metadata": {
    "collapsed": false
   },
   "outputs": [],
   "source": [
    "from sklearn.model_selection import train_test_split\n",
    "X_train, X_test, y_train, y_test = train_test_split(X, y, test_size=0.3, random_state=7)\n",
    "X_train_all, X_test_all, y_train_all, y_test_all = train_test_split(X_all_attr, y, test_size=0.3, random_state=7)"
   ]
  },
  {
   "cell_type": "code",
   "execution_count": 7,
   "metadata": {
    "collapsed": false
   },
   "outputs": [
    {
     "name": "stdout",
     "output_type": "stream",
     "text": [
      "score on train: 0.534323019705\n",
      "test score with lifestyle attr: 0.548838913705\n"
     ]
    }
   ],
   "source": [
    "from sklearn.tree import DecisionTreeClassifier\n",
    "from sklearn import metrics\n",
    "clf_all = DecisionTreeClassifier(max_depth=12, min_samples_leaf=200, min_samples_split=20)\n",
    "clf_all.fit(X_train_all, y_train_all)\n",
    "y_pred_all = clf_all.predict_proba(X_test_all)\n",
    "print('score on train:', metrics.log_loss(y_train_all, clf_all.predict_proba(X_train_all)))\n",
    "print('test score with lifestyle attr:', metrics.log_loss(y_test_all, y_pred_all))"
   ]
  },
  {
   "cell_type": "code",
   "execution_count": 8,
   "metadata": {
    "collapsed": false
   },
   "outputs": [
    {
     "name": "stdout",
     "output_type": "stream",
     "text": [
      "score on train: 0.535330156154\n",
      "test score without lifestyle attr: 0.549669986142\n"
     ]
    }
   ],
   "source": [
    "clf = DecisionTreeClassifier(max_depth=12, min_samples_leaf=200, min_samples_split=20)\n",
    "clf.fit(X_train, y_train)\n",
    "y_pred = clf.predict_proba(X_test)\n",
    "print('score on train:', metrics.log_loss(y_train, clf.predict_proba(X_train)))\n",
    "print('test score without lifestyle attr:', metrics.log_loss(y_test, y_pred))"
   ]
  },
  {
   "cell_type": "code",
   "execution_count": 9,
   "metadata": {
    "collapsed": false
   },
   "outputs": [
    {
     "data": {
      "text/plain": [
       "array([ 0.13580241,  0.00235418,  0.00649319,  0.02067384,  0.75172166,\n",
       "        0.0060132 ,  0.07090152,  0.00603999])"
      ]
     },
     "execution_count": 9,
     "metadata": {},
     "output_type": "execute_result"
    }
   ],
   "source": [
    "clf.feature_importances_"
   ]
  },
  {
   "cell_type": "code",
   "execution_count": 10,
   "metadata": {
    "collapsed": true
   },
   "outputs": [],
   "source": [
    "def print_first_ans():\n",
    "    y_ans = clf.predict_proba(X_ans)\n",
    "    y_ans = [x[1] for x in y_ans]\n",
    "    dataframe_ans = pd.DataFrame(y_ans)\n",
    "    dataframe_ans.to_csv('decision_tree_clf_part_attr.csv', sep=';', header=False, index=False)"
   ]
  },
  {
   "cell_type": "code",
   "execution_count": 11,
   "metadata": {
    "collapsed": false
   },
   "outputs": [
    {
     "data": {
      "text/plain": [
       "array([ 0.13645869,  0.00193223,  0.00495091,  0.02034461,  0.74602833,\n",
       "        0.00556965,  0.06971021,  0.00599989,  0.00101242,  0.        ,\n",
       "        0.00799305])"
      ]
     },
     "execution_count": 11,
     "metadata": {},
     "output_type": "execute_result"
    }
   ],
   "source": [
    "clf_all.feature_importances_"
   ]
  },
  {
   "cell_type": "code",
   "execution_count": 12,
   "metadata": {
    "collapsed": false
   },
   "outputs": [
    {
     "data": {
      "text/html": [
       "<div>\n",
       "<table border=\"1\" class=\"dataframe\">\n",
       "  <thead>\n",
       "    <tr style=\"text-align: right;\">\n",
       "      <th></th>\n",
       "      <th>age</th>\n",
       "      <th>gender</th>\n",
       "      <th>height</th>\n",
       "      <th>weight</th>\n",
       "      <th>ap_hi</th>\n",
       "      <th>ap_lo</th>\n",
       "      <th>cholesterol</th>\n",
       "      <th>gluc</th>\n",
       "      <th>smoke</th>\n",
       "      <th>alco</th>\n",
       "      <th>active</th>\n",
       "      <th>cardio</th>\n",
       "    </tr>\n",
       "    <tr>\n",
       "      <th>id</th>\n",
       "      <th></th>\n",
       "      <th></th>\n",
       "      <th></th>\n",
       "      <th></th>\n",
       "      <th></th>\n",
       "      <th></th>\n",
       "      <th></th>\n",
       "      <th></th>\n",
       "      <th></th>\n",
       "      <th></th>\n",
       "      <th></th>\n",
       "      <th></th>\n",
       "    </tr>\n",
       "  </thead>\n",
       "  <tbody>\n",
       "    <tr>\n",
       "      <th>0</th>\n",
       "      <td>18393</td>\n",
       "      <td>2</td>\n",
       "      <td>168</td>\n",
       "      <td>62.0</td>\n",
       "      <td>110</td>\n",
       "      <td>80</td>\n",
       "      <td>1</td>\n",
       "      <td>1</td>\n",
       "      <td>0</td>\n",
       "      <td>0</td>\n",
       "      <td>1</td>\n",
       "      <td>0</td>\n",
       "    </tr>\n",
       "    <tr>\n",
       "      <th>1</th>\n",
       "      <td>20228</td>\n",
       "      <td>1</td>\n",
       "      <td>156</td>\n",
       "      <td>85.0</td>\n",
       "      <td>140</td>\n",
       "      <td>90</td>\n",
       "      <td>3</td>\n",
       "      <td>1</td>\n",
       "      <td>0</td>\n",
       "      <td>0</td>\n",
       "      <td>1</td>\n",
       "      <td>1</td>\n",
       "    </tr>\n",
       "    <tr>\n",
       "      <th>2</th>\n",
       "      <td>18857</td>\n",
       "      <td>1</td>\n",
       "      <td>165</td>\n",
       "      <td>64.0</td>\n",
       "      <td>130</td>\n",
       "      <td>70</td>\n",
       "      <td>3</td>\n",
       "      <td>1</td>\n",
       "      <td>0</td>\n",
       "      <td>0</td>\n",
       "      <td>0</td>\n",
       "      <td>1</td>\n",
       "    </tr>\n",
       "  </tbody>\n",
       "</table>\n",
       "</div>"
      ],
      "text/plain": [
       "      age  gender  height  weight  ap_hi  ap_lo  cholesterol  gluc  smoke  \\\n",
       "id                                                                          \n",
       "0   18393       2     168    62.0    110     80            1     1      0   \n",
       "1   20228       1     156    85.0    140     90            3     1      0   \n",
       "2   18857       1     165    64.0    130     70            3     1      0   \n",
       "\n",
       "    alco  active  cardio  \n",
       "id                        \n",
       "0      0       1       0  \n",
       "1      0       1       1  \n",
       "2      0       0       1  "
      ]
     },
     "execution_count": 12,
     "metadata": {},
     "output_type": "execute_result"
    }
   ],
   "source": [
    "data_train.head(3)"
   ]
  },
  {
   "cell_type": "markdown",
   "metadata": {},
   "source": [
    "## KNeigborsClassifier"
   ]
  },
  {
   "cell_type": "code",
   "execution_count": 13,
   "metadata": {
    "collapsed": false
   },
   "outputs": [],
   "source": [
    "from sklearn.preprocessing import scale\n",
    "from sklearn.model_selection import cross_val_score\n",
    "from sklearn.neighbors import KNeighborsClassifier\n",
    "from sklearn.model_selection import KFold\n",
    "from matplotlib import pyplot as plt\n",
    "X_scale = scale(X)\n",
    "def find_best_KNN(X, y, k1, k2, step, p1, p2, p_cnt, count):\n",
    "    gen = KFold(n_splits=3, shuffle=True)\n",
    "    scores = {}\n",
    "    for k in range(k1, k2 + 1, step):\n",
    "        cur_score = -1\n",
    "        for p in np.linspace(p1, p2, p_cnt):\n",
    "            print(k, p)\n",
    "            clf = KNeighborsClassifier(n_neighbors=k, p=p)\n",
    "            res = np.mean(cross_val_score(clf, X[:10000], y[:10000], cv=gen, n_jobs=-1))  \n",
    "            if (cur_score < res):\n",
    "                cur_score = res\n",
    "                scores[k] = (p, res)\n",
    "    x_plt = list(scores.keys())\n",
    "    y_plt = [x[1] for x in scores.values()]\n",
    "    p_plt = [x[0] for x in scores.values()]\n",
    "    plt.plot(x_plt, y_plt)\n",
    "    plt.show()\n",
    "    plt.plot(x_plt, p_plt)\n",
    "    plt.show()\n",
    "    return sorted(scores.items(), key=lambda x:x[1][1], reverse=True)[:count]"
   ]
  },
  {
   "cell_type": "code",
   "execution_count": 14,
   "metadata": {
    "collapsed": false
   },
   "outputs": [
    {
     "name": "stdout",
     "output_type": "stream",
     "text": [
      "1 1.0\n",
      "11 1.0\n",
      "21 1.0\n",
      "31 1.0\n",
      "41 1.0\n",
      "51 1.0\n",
      "61 1.0\n",
      "71 1.0\n",
      "81 1.0\n",
      "91 1.0\n"
     ]
    },
    {
     "data": {
      "image/png": "[encoded data removed]",
      "text/plain": [
       "<matplotlib.figure.Figure at 0x7f1251e75b70>"
      ]
     },
     "metadata": {},
     "output_type": "display_data"
    },
    {
     "data": {
      "image/png": "[encoded data removed]",
      "text/plain": [
       "<matplotlib.figure.Figure at 0x7f12517fada0>"
      ]
     },
     "metadata": {},
     "output_type": "display_data"
    },
    {
     "data": {
      "text/plain": [
       "(41, (1.0, 0.67180029340666525))"
      ]
     },
     "execution_count": 14,
     "metadata": {},
     "output_type": "execute_result"
    }
   ],
   "source": [
    "best_k_all = find_best_KNN(X_scale, y, 1, 100, 10, 1, 1, 1, 30)\n",
    "best_k_all[0]"
   ]
  },
  {
   "cell_type": "code",
   "execution_count": 15,
   "metadata": {
    "collapsed": false
   },
   "outputs": [],
   "source": [
    "best_k = [31] \n",
    "best_p = [1]"
   ]
  },
  {
   "cell_type": "markdown",
   "metadata": {},
   "source": [
    "Теперь обучим три лучших KNN классификатора и встроим их результаты в Decision Tree"
   ]
  },
  {
   "cell_type": "code",
   "execution_count": 16,
   "metadata": {
    "collapsed": true
   },
   "outputs": [],
   "source": [
    "from sklearn.tree import DecisionTreeClassifier\n",
    "from sklearn import metrics\n",
    "from sklearn.preprocessing import scale\n",
    "from sklearn.neighbors import KNeighborsClassifier\n",
    "\n",
    "def add_knn_feature(knn, X):\n",
    "    X_scale = scale(X)\n",
    "    knn_feature = np.array(knn.predict(X_scale)).transpose()\n",
    "    #knn_feature = knn_feature[1]\n",
    "    knn_feature = np.array([knn_feature]).transpose()\n",
    "    X_with_knn_feature = np.hstack((X, knn_feature))\n",
    "    return X_with_knn_feature\n",
    "\n",
    "def get_knn_est(X, y, k=431, p=1):\n",
    "    est = KNeighborsClassifier(n_neighbors=k, p=p)\n",
    "    X_scale = scale(X)\n",
    "    est.fit(X_scale, y)\n",
    "    return est\n",
    "\n",
    "def get_tree_with_KNN(X, y, max_depth=8, min_samples_leaf=1000, min_samples_split=1000, k=431, p=1):\n",
    "    knn = get_knn_est(X, y, k=k, p=p)\n",
    "    X_with_knn_feature = add_knn_feature(knn, X)\n",
    "    \n",
    "    tree_with_knn = DecisionTreeClassifier(max_depth=max_depth, \n",
    "                                           min_samples_leaf=min_samples_leaf, \n",
    "                                           min_samples_split=min_samples_split)\n",
    "    \n",
    "    tree_with_knn.fit(X_with_knn_feature, y)\n",
    "    return tree_with_knn"
   ]
  },
  {
   "cell_type": "code",
   "execution_count": 17,
   "metadata": {
    "collapsed": false
   },
   "outputs": [
    {
     "name": "stdout",
     "output_type": "stream",
     "text": [
      "score on train: 0.552402653713\n",
      "test score with knn feature: 0.556751039778\n"
     ]
    }
   ],
   "source": [
    "my_clf = get_tree_with_KNN(X_train[:10000], y_train[:10000], max_depth=8, min_samples_leaf=1000, min_samples_split=1000, k=431, p=1)\n",
    "knn_est_train = get_knn_est(X_train[:10000], y_train[:10000], k=431, p=1)\n",
    "y_pred_knn = my_clf.predict_proba(add_knn_feature(knn_est_train, X_test[:10000]))\n",
    "print('score on train:', metrics.log_loss(y_train[:10000], my_clf.predict_proba(add_knn_feature(knn_est_train, X_train[:10000]))))\n",
    "print('test score with knn feature:', metrics.log_loss(y_test[:10000], y_pred_knn))"
   ]
  },
  {
   "cell_type": "code",
   "execution_count": 18,
   "metadata": {
    "collapsed": false
   },
   "outputs": [
    {
     "data": {
      "text/plain": [
       "[0.029999999999999999,\n",
       " 0.0,\n",
       " 0.0,\n",
       " 0.0,\n",
       " 0.81000000000000005,\n",
       " 0.0,\n",
       " 0.0,\n",
       " 0.0,\n",
       " 0.14999999999999999]"
      ]
     },
     "execution_count": 18,
     "metadata": {},
     "output_type": "execute_result"
    }
   ],
   "source": [
    "[round(x, 2) for x in my_clf.feature_importances_]"
   ]
  },
  {
   "cell_type": "markdown",
   "metadata": {},
   "source": [
    "so knn feature is important"
   ]
  },
  {
   "cell_type": "code",
   "execution_count": 19,
   "metadata": {
    "collapsed": false
   },
   "outputs": [
    {
     "name": "stdout",
     "output_type": "stream",
     "text": [
      "[[ 0.44937128  0.55062872]\n",
      " [ 0.433281    0.566719  ]\n",
      " [ 0.61476817  0.38523183]\n",
      " ..., \n",
      " [ 0.63233666  0.36766334]\n",
      " [ 0.88036594  0.11963406]\n",
      " [ 0.24458204  0.75541796]]\n"
     ]
    }
   ],
   "source": [
    "ans_knn_tree = get_tree_with_KNN(X, y)\n",
    "ans_knn_est = get_knn_est(X, y)\n",
    "y_pred_ans_knn = ans_knn_tree.predict_proba(add_knn_feature(ans_knn_est, X_ans))\n",
    "print(y_pred_ans_knn)"
   ]
  },
  {
   "cell_type": "code",
   "execution_count": 20,
   "metadata": {
    "collapsed": false
   },
   "outputs": [
    {
     "data": {
      "text/plain": [
       "(30000, 2)"
      ]
     },
     "execution_count": 20,
     "metadata": {},
     "output_type": "execute_result"
    }
   ],
   "source": [
    "y_pred_ans_knn.shape"
   ]
  },
  {
   "cell_type": "code",
   "execution_count": 42,
   "metadata": {
    "collapsed": true
   },
   "outputs": [],
   "source": [
    "y_ans_with_knn = [x[1] for x in y_pred_ans_knn]\n",
    "dataframe_ans_with_knn = pd.DataFrame(y_ans_with_knn)\n",
    "dataframe_ans_with_knn.to_csv('decision_tree_clf_with_knn_feature.csv', sep=';', header=False, index=False)"
   ]
  },
  {
   "cell_type": "markdown",
   "metadata": {
    "collapsed": true
   },
   "source": [
    "# Random Forest"
   ]
  },
  {
   "cell_type": "code",
   "execution_count": null,
   "metadata": {
    "collapsed": true
   },
   "outputs": [],
   "source": []
  },
  {
   "cell_type": "code",
   "execution_count": 43,
   "metadata": {
    "collapsed": true
   },
   "outputs": [],
   "source": [
    "train_knn_est = get_knn_est(X_train, y_train, k=431, p=1)\n",
    "X_train_with_knn = add_knn_feature(train_knn_est, X_train)\n",
    "X_test_with_knn = add_knn_feature(train_knn_est, X_test)"
   ]
  },
  {
   "cell_type": "code",
   "execution_count": 44,
   "metadata": {
    "collapsed": false
   },
   "outputs": [
    {
     "name": "stdout",
     "output_type": "stream",
     "text": [
      "score on train: 0.532651905525\n",
      "test score without lifestyle attr: 0.542671136212\n"
     ]
    }
   ],
   "source": [
    "from sklearn.ensemble import RandomForestClassifier\n",
    "rfs = RandomForestClassifier(n_estimators=1000, max_depth=50, min_samples_leaf=100, min_samples_split=100, n_jobs=-1)\n",
    "rfs.fit(X_train_with_knn, y_train)\n",
    "y_pred_test = rfs.predict_proba(X_test_with_knn)\n",
    "print('score on train:', metrics.log_loss(y_train, rfs.predict_proba(X_train_with_knn)))\n",
    "print('test score without lifestyle attr:', metrics.log_loss(y_test, y_pred_test))"
   ]
  },
  {
   "cell_type": "code",
   "execution_count": 45,
   "metadata": {
    "collapsed": true
   },
   "outputs": [],
   "source": [
    "ans_knn_est = get_knn_est(X, y, k=431, p=1)\n",
    "X_ans_with_knn = add_knn_feature(ans_knn_est, X_ans)\n",
    "X_with_knn = add_knn_feature(ans_knn_est, X)"
   ]
  },
  {
   "cell_type": "code",
   "execution_count": null,
   "metadata": {
    "collapsed": true
   },
   "outputs": [],
   "source": [
    "rfs = RandomForestClassifier(n_estimators=1000, max_depth=50, min_samples_leaf=100, min_samples_split=100, n_jobs=-1)\n",
    "rfs.fit(X_with_knn, y)"
   ]
  },
  {
   "cell_type": "code",
   "execution_count": 51,
   "metadata": {
    "collapsed": false
   },
   "outputs": [
    {
     "name": "stdout",
     "output_type": "stream",
     "text": [
      "(30000,)\n"
     ]
    }
   ],
   "source": [
    "y_pred_ans = rfs.predict_proba(X_ans_with_knn)\n",
    "y_pred_ans = np.array([x[1] for x in y_pred_ans])\n",
    "print(y_pred_ans.shape)"
   ]
  },
  {
   "cell_type": "code",
   "execution_count": 52,
   "metadata": {
    "collapsed": false
   },
   "outputs": [],
   "source": [
    "dataframe_ans_rfs_knn = pd.DataFrame(y_pred_ans)\n",
    "dataframe_ans_rfs_knn.to_csv('rfs_with_knn_feature.csv', sep=';', header=False, index=False)"
   ]
  },
  {
   "cell_type": "markdown",
   "metadata": {},
   "source": [
    "А если без knn feature"
   ]
  },
  {
   "cell_type": "code",
   "execution_count": 56,
   "metadata": {
    "collapsed": false
   },
   "outputs": [
    {
     "name": "stdout",
     "output_type": "stream",
     "text": [
      "score on train: 0.536027195971\n",
      "test score without lifestyle attr: 0.544172011974\n"
     ]
    }
   ],
   "source": [
    "from sklearn.ensemble import RandomForestClassifier\n",
    "rfs = RandomForestClassifier(n_estimators=1000, max_depth=50, min_samples_leaf=100, min_samples_split=100, n_jobs=-1)\n",
    "rfs.fit(X_train, y_train)\n",
    "y_pred_test = rfs.predict_proba(X_test)\n",
    "print('score on train:', metrics.log_loss(y_train, rfs.predict_proba(X_train)))\n",
    "print('test score without lifestyle attr:', metrics.log_loss(y_test, y_pred_test))"
   ]
  },
  {
   "cell_type": "code",
   "execution_count": null,
   "metadata": {
    "collapsed": true
   },
   "outputs": [],
   "source": []
  }
 ],
 "metadata": {
  "kernelspec": {
   "display_name": "Python 3",
   "language": "python",
   "name": "python3"
  },
  "language_info": {
   "codemirror_mode": {
    "name": "ipython",
    "version": 3
   },
   "file_extension": ".py",
   "mimetype": "text/x-python",
   "name": "python",
   "nbconvert_exporter": "python",
   "pygments_lexer": "ipython3",
   "version": "3.6.0"
  }
 },
 "nbformat": 4,
 "nbformat_minor": 2
}
