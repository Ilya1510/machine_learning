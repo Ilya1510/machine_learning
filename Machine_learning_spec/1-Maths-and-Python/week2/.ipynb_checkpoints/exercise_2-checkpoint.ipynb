{
 "cells": [
  {
   "cell_type": "markdown",
   "metadata": {},
   "source": [
    "## Задача 2: аппроксимация функции\n",
    "\n",
    "Рассмотрим сложную математическую функцию на отрезке [1, 15]:\n",
    "\n",
    "$$f(x) = sin(x / 5) * exp(x / 10) + 5 * exp(-x / 2)$$"
   ]
  },
  {
   "cell_type": "markdown",
   "metadata": {},
   "source": [
    "Сформируйте систему линейных уравнений (то есть задайте матрицу коэффициентов A и свободный вектор b) для многочлена первой степени, который должен совпадать с функцией f в точках 1 и 15. Решите данную систему с помощью функции scipy.linalg.solve. Нарисуйте функцию f и полученный многочлен. Хорошо ли он приближает исходную функцию?"
   ]
  },
  {
   "cell_type": "code",
   "execution_count": 45,
   "metadata": {
    "collapsed": true
   },
   "outputs": [],
   "source": [
    "#Задаёт нужныую матрицу A\n",
    "import numpy as np\n",
    "def get_matrix_for_find_polynom(x):\n",
    "    n = len(x)\n",
    "    A = np.zeros((n, n))\n",
    "    for i in range(n):\n",
    "        for j in range(n):\n",
    "            A[i, j] = x[i] ** j\n",
    "    return A"
   ]
  },
  {
   "cell_type": "code",
   "execution_count": 46,
   "metadata": {
    "collapsed": false
   },
   "outputs": [
    {
     "name": "stdout",
     "output_type": "stream",
     "text": [
      "[[  1.   1.]\n",
      " [  1.  15.]]\n"
     ]
    }
   ],
   "source": [
    "print(get_matrix_for_find_polynom([1, 15]))"
   ]
  },
  {
   "cell_type": "code",
   "execution_count": 47,
   "metadata": {
    "collapsed": true
   },
   "outputs": [],
   "source": [
    "def f(x):\n",
    "    return np.sin(x / 5) * np.exp(x / 10) + 5 * np.exp(-x / 2)\n",
    "\n",
    "def get_need_value(x):\n",
    "    return np.array([f(x_i) for x_i in x])\n",
    "\n",
    "def get_values_function(g, x):\n",
    "    return np.array([g(x_i) for x_i in x])"
   ]
  },
  {
   "cell_type": "code",
   "execution_count": 56,
   "metadata": {
    "collapsed": false
   },
   "outputs": [
    {
     "data": {
      "text/plain": [
       "array([ 3.25221687,  2.31503384,  1.87783842])"
      ]
     },
     "execution_count": 56,
     "metadata": {},
     "output_type": "execute_result"
    }
   ],
   "source": [
    "#f([1, 2, 3]) - not running\n",
    "f(np.array([1, 2, 3]))"
   ]
  },
  {
   "cell_type": "code",
   "execution_count": 48,
   "metadata": {
    "collapsed": false
   },
   "outputs": [
    {
     "name": "stdout",
     "output_type": "stream",
     "text": [
      "[ 3.25221687  0.63522142]\n"
     ]
    }
   ],
   "source": [
    "print(get_need_value([1, 15]))"
   ]
  },
  {
   "cell_type": "code",
   "execution_count": 49,
   "metadata": {
    "collapsed": true
   },
   "outputs": [],
   "source": [
    "from scipy import linalg\n",
    "def find_polynom(g, x):\n",
    "    A = get_matrix_for_find_polynom(x)\n",
    "    y = get_values_function(g, x)\n",
    "    w = linalg.solve(A, y)\n",
    "    return w"
   ]
  },
  {
   "cell_type": "code",
   "execution_count": 50,
   "metadata": {
    "collapsed": true
   },
   "outputs": [],
   "source": [
    "def calculate_polynom_on_points(w, x):\n",
    "    return [sum([w[j] * x_i ** j for j in range(len(w))]) for x_i in x]"
   ]
  },
  {
   "cell_type": "code",
   "execution_count": 51,
   "metadata": {
    "collapsed": false
   },
   "outputs": [
    {
     "name": "stdout",
     "output_type": "stream",
     "text": [
      "[ 3.43914511 -0.18692825]\n",
      "[3.2522168652714187, 0.63522141957866562]\n"
     ]
    }
   ],
   "source": [
    "print(find_polynom(f, [1, 15]))\n",
    "print(calculate_polynom_on_points(find_polynom(f, [1, 15]), [1, 15]))"
   ]
  },
  {
   "cell_type": "code",
   "execution_count": 52,
   "metadata": {
    "collapsed": false
   },
   "outputs": [
    {
     "data": {
      "image/png": "[encoded data removed]",
      "text/plain": [
       "<matplotlib.figure.Figure at 0x7f8a984e9c50>"
      ]
     },
     "metadata": {},
     "output_type": "display_data"
    }
   ],
   "source": [
    "from matplotlib import pyplot as plt\n",
    "x = np.arange(1, 15.1, 0.1)\n",
    "y_f = f(x)\n",
    "w_1 = find_polynom(f, [1, 15])\n",
    "w_2 = find_polynom(f, [1, 8, 15])\n",
    "w_3 = find_polynom(f, [1, 4, 10, 15])\n",
    "y_1 = calculate_polynom_on_points(w_1, x)\n",
    "y_2 = calculate_polynom_on_points(w_2, x)\n",
    "y_3 = calculate_polynom_on_points(w_3, x)\n",
    "plt.plot(x, y_f)\n",
    "plt.plot(x, y_1)\n",
    "plt.plot(x, y_2)\n",
    "plt.plot(x, y_3)\n",
    "plt.show()"
   ]
  },
  {
   "cell_type": "markdown",
   "metadata": {},
   "source": [
    "Повторите те же шаги для многочлена третьей степени, который совпадает с функцией f в точках 1, 4, 10 и 15. Хорошо ли он аппроксимирует функцию? Коэффициенты данного многочлена (четыре числа в следующем порядке: w_0, w_1, w_2, w_3) являются ответом на задачу. Округлять коэффициенты не обязательно, но при желании можете произвести округление до второго знака (т.е. до числа вида 0.42)"
   ]
  },
  {
   "cell_type": "code",
   "execution_count": 53,
   "metadata": {
    "collapsed": false
   },
   "outputs": [
    {
     "name": "stdout",
     "output_type": "stream",
     "text": [
      "answer:  [4.3600000000000003, -1.3, 0.19, -0.01]\n"
     ]
    }
   ],
   "source": [
    "answer = [round(x, 2) for x in find_polynom(f, [1, 4, 10, 15])]\n",
    "print(\"answer: \", answer)"
   ]
  },
  {
   "cell_type": "code",
   "execution_count": 54,
   "metadata": {
    "collapsed": false
   },
   "outputs": [
    {
     "name": "stdout",
     "output_type": "stream",
     "text": [
      "4.36 -1.3 0.19 -0.01"
     ]
    }
   ],
   "source": [
    "answer_file = open(\"submission2.txt\", 'w')\n",
    "answer_file.write(\" \".join(str(x) for x in answer))\n",
    "answer_file.close()\n",
    "!cat submission2.txt"
   ]
  },
  {
   "cell_type": "code",
   "execution_count": null,
   "metadata": {
    "collapsed": true
   },
   "outputs": [],
   "source": []
  }
 ],
 "metadata": {
  "kernelspec": {
   "display_name": "Python 3",
   "language": "python",
   "name": "python3"
  },
  "language_info": {
   "codemirror_mode": {
    "name": "ipython",
    "version": 3
   },
   "file_extension": ".py",
   "mimetype": "text/x-python",
   "name": "python",
   "nbconvert_exporter": "python",
   "pygments_lexer": "ipython3",
   "version": "3.6.0"
  }
 },
 "nbformat": 4,
 "nbformat_minor": 2
}
